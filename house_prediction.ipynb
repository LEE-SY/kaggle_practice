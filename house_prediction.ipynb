{
 "cells": [
  {
   "cell_type": "code",
   "execution_count": 1,
   "metadata": {},
   "outputs": [
    {
     "name": "stderr",
     "output_type": "stream",
     "text": [
      "Warning message:\n",
      "\"package 'dplyr' was built under R version 3.5.3\"Warning message:\n",
      "\"package 'pdftools' was built under R version 3.5.3\"Warning message:\n",
      "\"package 'tidyverse' was built under R version 3.5.3\"-- \u001b[1mAttaching packages\u001b[22m --------------------------------------- tidyverse 1.2.1 --\n",
      "\u001b[32m√\u001b[39m \u001b[34mtibble \u001b[39m 2.1.1     \u001b[32m√\u001b[39m \u001b[34mpurrr  \u001b[39m 0.2.5\n",
      "\u001b[32m√\u001b[39m \u001b[34mtidyr  \u001b[39m 0.8.3     \u001b[32m√\u001b[39m \u001b[34mstringr\u001b[39m 1.3.1\n",
      "\u001b[32m√\u001b[39m \u001b[34mreadr  \u001b[39m 1.1.1     \u001b[32m√\u001b[39m \u001b[34mforcats\u001b[39m 0.3.0\n",
      "Warning message:\n",
      "\"package 'tibble' was built under R version 3.5.3\"Warning message:\n",
      "\"package 'tidyr' was built under R version 3.5.3\"-- \u001b[1mConflicts\u001b[22m ------------------------------------------ tidyverse_conflicts() --\n",
      "\u001b[31mx\u001b[39m \u001b[34mdplyr\u001b[39m::\u001b[32mfilter()\u001b[39m masks \u001b[34mstats\u001b[39m::filter()\n",
      "\u001b[31mx\u001b[39m \u001b[34mdplyr\u001b[39m::\u001b[32mlag()\u001b[39m    masks \u001b[34mstats\u001b[39m::lag()\n",
      "Warning message:\n",
      "\"package 'ggthemes' was built under R version 3.5.3\"Warning message:\n",
      "\"package 'ggrepel' was built under R version 3.5.3\"Warning message:\n",
      "\"package 'tm' was built under R version 3.5.3\"Warning message:\n",
      "\"package 'NLP' was built under R version 3.5.2\"\n",
      "Attaching package: 'NLP'\n",
      "\n",
      "The following object is masked from 'package:ggplot2':\n",
      "\n",
      "    annotate\n",
      "\n",
      "Warning message:\n",
      "\"package 'PerformanceAnalytics' was built under R version 3.5.3\"Warning message:\n",
      "\"package 'xts' was built under R version 3.5.3\"Warning message:\n",
      "\"package 'zoo' was built under R version 3.5.3\"\n",
      "Attaching package: 'zoo'\n",
      "\n",
      "The following objects are masked from 'package:base':\n",
      "\n",
      "    as.Date, as.Date.numeric\n",
      "\n",
      "\n",
      "Attaching package: 'xts'\n",
      "\n",
      "The following objects are masked from 'package:dplyr':\n",
      "\n",
      "    first, last\n",
      "\n",
      "Warning message:\n",
      "\"package 'e1071' was built under R version 3.5.3\"Warning message:\n",
      "\"package 'doBy' was built under R version 3.5.3\"Warning message:\n",
      "\"package 'fmsb' was built under R version 3.5.2\"Warning message:\n",
      "\"package 'corrplot' was built under R version 3.5.3\"corrplot 0.84 loaded\n",
      "Warning message:\n",
      "\"package 'VIM' was built under R version 3.5.3\"\n",
      "Attaching package: 'data.table'\n",
      "\n",
      "The following objects are masked from 'package:xts':\n",
      "\n",
      "    first, last\n",
      "\n",
      "The following object is masked from 'package:purrr':\n",
      "\n",
      "    transpose\n",
      "\n",
      "The following objects are masked from 'package:dplyr':\n",
      "\n",
      "    between, first, last\n",
      "\n",
      "VIM is ready to use. \n",
      " Since version 4.0.0 the GUI is in its own package VIMGUI.\n",
      "\n",
      "          Please use the package to use the new (and old) GUI.\n",
      "\n",
      "Suggestions and bug-reports can be submitted at: https://github.com/alexkowa/VIM/issues\n",
      "Warning message:\n",
      "\"package 'DMwR' was built under R version 3.5.3\"Warning message:\n",
      "\"package 'rattle' was built under R version 3.5.3\"Rattle: A free graphical interface for data science with R.\n",
      "Version 5.2.0 Copyright (c) 2006-2018 Togaware Pty Ltd.\n",
      "Type 'rattle()' to shake, rattle, and roll your data.\n",
      "Warning message:\n",
      "\"package 'rpart.plot' was built under R version 3.5.3\"Warning message:\n",
      "\"package 'ipred' was built under R version 3.5.3\"Warning message:\n",
      "\"package 'randomForest' was built under R version 3.5.3\"randomForest 4.6-14\n",
      "Type rfNews() to see new features/changes/bug fixes.\n",
      "Warning message:\n",
      "\"package 'adabag' was built under R version 3.5.3\"Warning message:\n",
      "\"package 'caret' was built under R version 3.5.3\"\n",
      "Attaching package: 'caret'\n",
      "\n",
      "The following object is masked from 'package:purrr':\n",
      "\n",
      "    lift\n",
      "\n",
      "Warning message:\n",
      "\"package 'foreach' was built under R version 3.5.3\"\n",
      "Attaching package: 'foreach'\n",
      "\n",
      "The following objects are masked from 'package:purrr':\n",
      "\n",
      "    accumulate, when\n",
      "\n",
      "Warning message:\n",
      "\"package 'doParallel' was built under R version 3.5.3\"Warning message:\n",
      "\"package 'iterators' was built under R version 3.5.3\"Warning message:\n",
      "\"package 'lme4' was built under R version 3.5.3\"\n",
      "Attaching package: 'Matrix'\n",
      "\n",
      "The following object is masked from 'package:tidyr':\n",
      "\n",
      "    expand\n",
      "\n",
      "Warning message:\n",
      "\"package 'ROCR' was built under R version 3.5.3\"Warning message:\n",
      "\"package 'gplots' was built under R version 3.5.3\"\n",
      "Attaching package: 'gplots'\n",
      "\n",
      "The following object is masked from 'package:PerformanceAnalytics':\n",
      "\n",
      "    textplot\n",
      "\n",
      "The following object is masked from 'package:stats':\n",
      "\n",
      "    lowess\n",
      "\n",
      "Warning message:\n",
      "\"package 'Imap' was built under R version 3.5.2\"Warning message:\n",
      "\"package 'naniar' was built under R version 3.5.3\"Warning message:\n",
      "\"package 'gridExtra' was built under R version 3.5.3\"Warning message:\n",
      "\"package 'GGally' was built under R version 3.5.3\"Warning message:\n",
      "\"package 'leaflet' was built under R version 3.5.3\"Warning message:\n",
      "\"package 'parsedate' was built under R version 3.5.3\""
     ]
    },
    {
     "data": {
      "text/html": [
       "<dl class=dl-horizontal>\n",
       "\t<dt>dplyr</dt>\n",
       "\t\t<dd>TRUE</dd>\n",
       "\t<dt>readxl</dt>\n",
       "\t\t<dd>TRUE</dd>\n",
       "\t<dt>haven</dt>\n",
       "\t\t<dd>TRUE</dd>\n",
       "\t<dt>ggplot2</dt>\n",
       "\t\t<dd>TRUE</dd>\n",
       "\t<dt>pdftools</dt>\n",
       "\t\t<dd>TRUE</dd>\n",
       "\t<dt>tidyverse</dt>\n",
       "\t\t<dd>TRUE</dd>\n",
       "\t<dt>ggplot2</dt>\n",
       "\t\t<dd>TRUE</dd>\n",
       "\t<dt>ggthemes</dt>\n",
       "\t\t<dd>TRUE</dd>\n",
       "\t<dt>ggrepel</dt>\n",
       "\t\t<dd>TRUE</dd>\n",
       "\t<dt>tm</dt>\n",
       "\t\t<dd>TRUE</dd>\n",
       "\t<dt>grid</dt>\n",
       "\t\t<dd>TRUE</dd>\n",
       "\t<dt>PerformanceAnalytics</dt>\n",
       "\t\t<dd>TRUE</dd>\n",
       "\t<dt>e1071</dt>\n",
       "\t\t<dd>TRUE</dd>\n",
       "\t<dt>doBy</dt>\n",
       "\t\t<dd>TRUE</dd>\n",
       "\t<dt>fmsb</dt>\n",
       "\t\t<dd>TRUE</dd>\n",
       "\t<dt>corrplot</dt>\n",
       "\t\t<dd>TRUE</dd>\n",
       "\t<dt>VIM</dt>\n",
       "\t\t<dd>TRUE</dd>\n",
       "\t<dt>DMwR</dt>\n",
       "\t\t<dd>TRUE</dd>\n",
       "\t<dt>rpart</dt>\n",
       "\t\t<dd>TRUE</dd>\n",
       "\t<dt>rattle</dt>\n",
       "\t\t<dd>TRUE</dd>\n",
       "\t<dt>rpart.plot</dt>\n",
       "\t\t<dd>TRUE</dd>\n",
       "\t<dt>RColorBrewer</dt>\n",
       "\t\t<dd>TRUE</dd>\n",
       "\t<dt>ipred</dt>\n",
       "\t\t<dd>TRUE</dd>\n",
       "\t<dt>randomForest</dt>\n",
       "\t\t<dd>TRUE</dd>\n",
       "\t<dt>adabag</dt>\n",
       "\t\t<dd>TRUE</dd>\n",
       "\t<dt>lme4</dt>\n",
       "\t\t<dd>TRUE</dd>\n",
       "\t<dt>caret</dt>\n",
       "\t\t<dd>TRUE</dd>\n",
       "\t<dt>class</dt>\n",
       "\t\t<dd>TRUE</dd>\n",
       "\t<dt>ROCR</dt>\n",
       "\t\t<dd>TRUE</dd>\n",
       "\t<dt>Imap</dt>\n",
       "\t\t<dd>TRUE</dd>\n",
       "\t<dt>caret</dt>\n",
       "\t\t<dd>TRUE</dd>\n",
       "\t<dt>randomForest</dt>\n",
       "\t\t<dd>TRUE</dd>\n",
       "\t<dt>naniar</dt>\n",
       "\t\t<dd>TRUE</dd>\n",
       "\t<dt>gridExtra</dt>\n",
       "\t\t<dd>TRUE</dd>\n",
       "\t<dt>GGally</dt>\n",
       "\t\t<dd>TRUE</dd>\n",
       "\t<dt>leaflet</dt>\n",
       "\t\t<dd>TRUE</dd>\n",
       "\t<dt>parsedate</dt>\n",
       "\t\t<dd>TRUE</dd>\n",
       "</dl>\n"
      ],
      "text/latex": [
       "\\begin{description*}\n",
       "\\item[dplyr] TRUE\n",
       "\\item[readxl] TRUE\n",
       "\\item[haven] TRUE\n",
       "\\item[ggplot2] TRUE\n",
       "\\item[pdftools] TRUE\n",
       "\\item[tidyverse] TRUE\n",
       "\\item[ggplot2] TRUE\n",
       "\\item[ggthemes] TRUE\n",
       "\\item[ggrepel] TRUE\n",
       "\\item[tm] TRUE\n",
       "\\item[grid] TRUE\n",
       "\\item[PerformanceAnalytics] TRUE\n",
       "\\item[e1071] TRUE\n",
       "\\item[doBy] TRUE\n",
       "\\item[fmsb] TRUE\n",
       "\\item[corrplot] TRUE\n",
       "\\item[VIM] TRUE\n",
       "\\item[DMwR] TRUE\n",
       "\\item[rpart] TRUE\n",
       "\\item[rattle] TRUE\n",
       "\\item[rpart.plot] TRUE\n",
       "\\item[RColorBrewer] TRUE\n",
       "\\item[ipred] TRUE\n",
       "\\item[randomForest] TRUE\n",
       "\\item[adabag] TRUE\n",
       "\\item[lme4] TRUE\n",
       "\\item[caret] TRUE\n",
       "\\item[class] TRUE\n",
       "\\item[ROCR] TRUE\n",
       "\\item[Imap] TRUE\n",
       "\\item[caret] TRUE\n",
       "\\item[randomForest] TRUE\n",
       "\\item[naniar] TRUE\n",
       "\\item[gridExtra] TRUE\n",
       "\\item[GGally] TRUE\n",
       "\\item[leaflet] TRUE\n",
       "\\item[parsedate] TRUE\n",
       "\\end{description*}\n"
      ],
      "text/markdown": [
       "dplyr\n",
       ":   TRUEreadxl\n",
       ":   TRUEhaven\n",
       ":   TRUEggplot2\n",
       ":   TRUEpdftools\n",
       ":   TRUEtidyverse\n",
       ":   TRUEggplot2\n",
       ":   TRUEggthemes\n",
       ":   TRUEggrepel\n",
       ":   TRUEtm\n",
       ":   TRUEgrid\n",
       ":   TRUEPerformanceAnalytics\n",
       ":   TRUEe1071\n",
       ":   TRUEdoBy\n",
       ":   TRUEfmsb\n",
       ":   TRUEcorrplot\n",
       ":   TRUEVIM\n",
       ":   TRUEDMwR\n",
       ":   TRUErpart\n",
       ":   TRUErattle\n",
       ":   TRUErpart.plot\n",
       ":   TRUERColorBrewer\n",
       ":   TRUEipred\n",
       ":   TRUErandomForest\n",
       ":   TRUEadabag\n",
       ":   TRUElme4\n",
       ":   TRUEcaret\n",
       ":   TRUEclass\n",
       ":   TRUEROCR\n",
       ":   TRUEImap\n",
       ":   TRUEcaret\n",
       ":   TRUErandomForest\n",
       ":   TRUEnaniar\n",
       ":   TRUEgridExtra\n",
       ":   TRUEGGally\n",
       ":   TRUEleaflet\n",
       ":   TRUEparsedate\n",
       ":   TRUE\n",
       "\n"
      ],
      "text/plain": [
       "               dplyr               readxl                haven \n",
       "                TRUE                 TRUE                 TRUE \n",
       "             ggplot2             pdftools            tidyverse \n",
       "                TRUE                 TRUE                 TRUE \n",
       "             ggplot2             ggthemes              ggrepel \n",
       "                TRUE                 TRUE                 TRUE \n",
       "                  tm                 grid PerformanceAnalytics \n",
       "                TRUE                 TRUE                 TRUE \n",
       "               e1071                 doBy                 fmsb \n",
       "                TRUE                 TRUE                 TRUE \n",
       "            corrplot                  VIM                 DMwR \n",
       "                TRUE                 TRUE                 TRUE \n",
       "               rpart               rattle           rpart.plot \n",
       "                TRUE                 TRUE                 TRUE \n",
       "        RColorBrewer                ipred         randomForest \n",
       "                TRUE                 TRUE                 TRUE \n",
       "              adabag                 lme4                caret \n",
       "                TRUE                 TRUE                 TRUE \n",
       "               class                 ROCR                 Imap \n",
       "                TRUE                 TRUE                 TRUE \n",
       "               caret         randomForest               naniar \n",
       "                TRUE                 TRUE                 TRUE \n",
       "           gridExtra               GGally              leaflet \n",
       "                TRUE                 TRUE                 TRUE \n",
       "           parsedate \n",
       "                TRUE "
      ]
     },
     "metadata": {},
     "output_type": "display_data"
    },
    {
     "data": {
      "text/html": [
       "8076"
      ],
      "text/latex": [
       "8076"
      ],
      "text/markdown": [
       "8076"
      ],
      "text/plain": [
       "[1] 8076"
      ]
     },
     "metadata": {},
     "output_type": "display_data"
    },
    {
     "data": {
      "text/html": [
       "1e+11"
      ],
      "text/latex": [
       "1e+11"
      ],
      "text/markdown": [
       "1e+11"
      ],
      "text/plain": [
       "[1] 1e+11"
      ]
     },
     "metadata": {},
     "output_type": "display_data"
    }
   ],
   "source": [
    "#library and data loading\n",
    "\n",
    "\n",
    "pckg<-c(\"dplyr\",\"readxl\",\"haven\",\"ggplot2\",\"pdftools\", \"tidyverse\",\n",
    "        \"ggplot2\", \"ggthemes\", \"ggrepel\", \"tm\", \"grid\",\"PerformanceAnalytics\",\n",
    "        \"e1071\",\"doBy\",\"fmsb\",\"corrplot\",\"VIM\",\"DMwR\",\"rpart\",\n",
    "        \"rattle\",\"rpart.plot\",\"RColorBrewer\",\"ipred\",\n",
    "        \"randomForest\",\"adabag\",\"lme4\",\"caret\",\"class\",\"ROCR\",\"Imap\",\"caret\",\"randomForest\",\"naniar\",\"gridExtra\",\"GGally\",\"leaflet\",\"parsedate\")\n",
    "#sapply(pckg,install.packages,character.only=TRUE) #library loading\n",
    "sapply(pckg, function(x) require(x,quietly=TRUE,character.only=TRUE,warn.conflicts = FALSE )) #library loading\n",
    "\n",
    "memory.limit();\n",
    "memory.limit(100000000000);\n",
    "\n",
    "kc_house_base<-read.csv(\"kc_house_data.csv\", na.strings = \"NA\",stringsAsFactors = FALSE) #data loading\n",
    "kc_house<-read.csv(\"kc_house_data.csv\", na.strings = \"NA\",stringsAsFactors = FALSE) #data loading\n"
   ]
  },
  {
   "cell_type": "code",
   "execution_count": 2,
   "metadata": {},
   "outputs": [
    {
     "data": {
      "text/html": [
       "<dl class=dl-horizontal>\n",
       "\t<dt>id</dt>\n",
       "\t\t<dd>FALSE</dd>\n",
       "\t<dt>date</dt>\n",
       "\t\t<dd>FALSE</dd>\n",
       "\t<dt>price</dt>\n",
       "\t\t<dd>FALSE</dd>\n",
       "\t<dt>bedrooms</dt>\n",
       "\t\t<dd>FALSE</dd>\n",
       "\t<dt>bathrooms</dt>\n",
       "\t\t<dd>FALSE</dd>\n",
       "\t<dt>sqft_living</dt>\n",
       "\t\t<dd>FALSE</dd>\n",
       "\t<dt>sqft_lot</dt>\n",
       "\t\t<dd>FALSE</dd>\n",
       "\t<dt>floors</dt>\n",
       "\t\t<dd>FALSE</dd>\n",
       "\t<dt>waterfront</dt>\n",
       "\t\t<dd>FALSE</dd>\n",
       "\t<dt>view</dt>\n",
       "\t\t<dd>FALSE</dd>\n",
       "\t<dt>condition</dt>\n",
       "\t\t<dd>FALSE</dd>\n",
       "\t<dt>grade</dt>\n",
       "\t\t<dd>FALSE</dd>\n",
       "\t<dt>sqft_above</dt>\n",
       "\t\t<dd>FALSE</dd>\n",
       "\t<dt>sqft_basement</dt>\n",
       "\t\t<dd>FALSE</dd>\n",
       "\t<dt>yr_built</dt>\n",
       "\t\t<dd>FALSE</dd>\n",
       "\t<dt>yr_renovated</dt>\n",
       "\t\t<dd>FALSE</dd>\n",
       "\t<dt>zipcode</dt>\n",
       "\t\t<dd>FALSE</dd>\n",
       "\t<dt>lat</dt>\n",
       "\t\t<dd>FALSE</dd>\n",
       "\t<dt>long</dt>\n",
       "\t\t<dd>FALSE</dd>\n",
       "\t<dt>sqft_living15</dt>\n",
       "\t\t<dd>FALSE</dd>\n",
       "\t<dt>sqft_lot15</dt>\n",
       "\t\t<dd>FALSE</dd>\n",
       "</dl>\n"
      ],
      "text/latex": [
       "\\begin{description*}\n",
       "\\item[id] FALSE\n",
       "\\item[date] FALSE\n",
       "\\item[price] FALSE\n",
       "\\item[bedrooms] FALSE\n",
       "\\item[bathrooms] FALSE\n",
       "\\item[sqft\\textbackslash{}\\_living] FALSE\n",
       "\\item[sqft\\textbackslash{}\\_lot] FALSE\n",
       "\\item[floors] FALSE\n",
       "\\item[waterfront] FALSE\n",
       "\\item[view] FALSE\n",
       "\\item[condition] FALSE\n",
       "\\item[grade] FALSE\n",
       "\\item[sqft\\textbackslash{}\\_above] FALSE\n",
       "\\item[sqft\\textbackslash{}\\_basement] FALSE\n",
       "\\item[yr\\textbackslash{}\\_built] FALSE\n",
       "\\item[yr\\textbackslash{}\\_renovated] FALSE\n",
       "\\item[zipcode] FALSE\n",
       "\\item[lat] FALSE\n",
       "\\item[long] FALSE\n",
       "\\item[sqft\\textbackslash{}\\_living15] FALSE\n",
       "\\item[sqft\\textbackslash{}\\_lot15] FALSE\n",
       "\\end{description*}\n"
      ],
      "text/markdown": [
       "id\n",
       ":   FALSEdate\n",
       ":   FALSEprice\n",
       ":   FALSEbedrooms\n",
       ":   FALSEbathrooms\n",
       ":   FALSEsqft_living\n",
       ":   FALSEsqft_lot\n",
       ":   FALSEfloors\n",
       ":   FALSEwaterfront\n",
       ":   FALSEview\n",
       ":   FALSEcondition\n",
       ":   FALSEgrade\n",
       ":   FALSEsqft_above\n",
       ":   FALSEsqft_basement\n",
       ":   FALSEyr_built\n",
       ":   FALSEyr_renovated\n",
       ":   FALSEzipcode\n",
       ":   FALSElat\n",
       ":   FALSElong\n",
       ":   FALSEsqft_living15\n",
       ":   FALSEsqft_lot15\n",
       ":   FALSE\n",
       "\n"
      ],
      "text/plain": [
       "           id          date         price      bedrooms     bathrooms \n",
       "        FALSE         FALSE         FALSE         FALSE         FALSE \n",
       "  sqft_living      sqft_lot        floors    waterfront          view \n",
       "        FALSE         FALSE         FALSE         FALSE         FALSE \n",
       "    condition         grade    sqft_above sqft_basement      yr_built \n",
       "        FALSE         FALSE         FALSE         FALSE         FALSE \n",
       " yr_renovated       zipcode           lat          long sqft_living15 \n",
       "        FALSE         FALSE         FALSE         FALSE         FALSE \n",
       "   sqft_lot15 \n",
       "        FALSE "
      ]
     },
     "metadata": {},
     "output_type": "display_data"
    },
    {
     "name": "stderr",
     "output_type": "stream",
     "text": [
      "Warning message in cbind(parts$left, ellip_h, parts$right, deparse.level = 0L):\n",
      "\"number of rows of result is not a multiple of vector length (arg 2)\"Warning message in cbind(parts$left, ellip_h, parts$right, deparse.level = 0L):\n",
      "\"number of rows of result is not a multiple of vector length (arg 2)\"Warning message in cbind(parts$left, ellip_h, parts$right, deparse.level = 0L):\n",
      "\"number of rows of result is not a multiple of vector length (arg 2)\"Warning message in cbind(parts$left, ellip_h, parts$right, deparse.level = 0L):\n",
      "\"number of rows of result is not a multiple of vector length (arg 2)\""
     ]
    },
    {
     "data": {
      "text/html": [
       "<table>\n",
       "<thead><tr><th scope=col>id</th><th scope=col>date</th><th scope=col>price</th><th scope=col>bedrooms</th><th scope=col>bathrooms</th><th scope=col>sqft_living</th><th scope=col>sqft_lot</th><th scope=col>floors</th><th scope=col>waterfront</th><th scope=col>view</th><th scope=col>...</th><th scope=col>grade</th><th scope=col>sqft_above</th><th scope=col>sqft_basement</th><th scope=col>yr_built</th><th scope=col>yr_renovated</th><th scope=col>zipcode</th><th scope=col>lat</th><th scope=col>long</th><th scope=col>sqft_living15</th><th scope=col>sqft_lot15</th></tr></thead>\n",
       "<tbody>\n",
       "</tbody>\n",
       "</table>\n"
      ],
      "text/latex": [
       "\\begin{tabular}{r|lllllllllllllllllllll}\n",
       " id & date & price & bedrooms & bathrooms & sqft\\_living & sqft\\_lot & floors & waterfront & view & ... & grade & sqft\\_above & sqft\\_basement & yr\\_built & yr\\_renovated & zipcode & lat & long & sqft\\_living15 & sqft\\_lot15\\\\\n",
       "\\hline\n",
       "\\end{tabular}\n"
      ],
      "text/markdown": [
       "\n",
       "| id | date | price | bedrooms | bathrooms | sqft_living | sqft_lot | floors | waterfront | view | ... | grade | sqft_above | sqft_basement | yr_built | yr_renovated | zipcode | lat | long | sqft_living15 | sqft_lot15 |\n",
       "|---|---|---|---|---|---|---|---|---|---|---|---|---|---|---|---|---|---|---|---|---|\n",
       "\n"
      ],
      "text/plain": [
       "     id date price bedrooms bathrooms sqft_living sqft_lot floors waterfront\n",
       "     view ... grade sqft_above sqft_basement yr_built yr_renovated zipcode lat\n",
       "     long sqft_living15 sqft_lot15"
      ]
     },
     "metadata": {},
     "output_type": "display_data"
    }
   ],
   "source": [
    "\n",
    "#missing data\n",
    "\n",
    "apply(kc_house,MARGIN=2,FUN=any_na)\n",
    "kc_house[!complete.cases(kc_house),]\n",
    "\n",
    "#outlier \n",
    "\n",
    "for (i in (3:ncol(kc_house))) {\n",
    "    \n",
    "    lower<-kc_house[which(kc_house[,i]<quantile(kc_house[,i],c(0.02))),]\n",
    "    assign(paste(colnames(kc_house)[i],\"_out_low\",sep=\"\"),lower)\n",
    "    \n",
    "    up<-kc_house[which(kc_house[,i]>quantile(kc_house[,i],c(0.99))),]\n",
    "    assign(paste(colnames(kc_house)[i],\"_out_up\",sep=\"\"),up)\n",
    "}\n"
   ]
  },
  {
   "cell_type": "code",
   "execution_count": 3,
   "metadata": {},
   "outputs": [],
   "source": [
    "\n",
    "\n",
    "#test/training split\n",
    "\n",
    "smp_size <- floor(0.75 * nrow(kc_house)) # 75% of the sample size\n",
    "\n",
    "## set the seed to make your partition reproducible\n",
    "set.seed(123)\n",
    "train_ind <- sample(seq_len(nrow(kc_house)), size = smp_size)\n",
    "\n",
    "kc_house_base<- kc_house_base[train_ind, ]\n",
    "kc_house<- kc_house[train_ind, ]\n",
    "kc_house_test <- kc_house[-train_ind, ]"
   ]
  },
  {
   "cell_type": "code",
   "execution_count": 4,
   "metadata": {},
   "outputs": [
    {
     "name": "stdout",
     "output_type": "stream",
     "text": [
      "'data.frame':\t16209 obs. of  21 variables:\n",
      " $ id           : num  6.19e+09 1.12e+09 2.52e+09 7.55e+09 5.56e+09 ...\n",
      " $ date         : chr  \"20140514T000000\" \"20150327T000000\" \"20141205T000000\" \"20140714T000000\" ...\n",
      " $ price        : num  364000 875000 1406890 550000 1240000 ...\n",
      " $ bedrooms     : int  4 5 5 3 5 2 3 4 4 3 ...\n",
      " $ bathrooms    : num  1.75 3.25 2.25 1.75 4 1 2.5 2.5 2 1.75 ...\n",
      " $ sqft_living  : int  2010 4230 3580 1410 4410 880 2070 3440 2340 1340 ...\n",
      " $ sqft_lot     : int  8625 21455 16789 5000 14380 7683 12708 6332 6000 6250 ...\n",
      " $ floors       : num  1 2 2 1 2 1 2 2 1 1 ...\n",
      " $ waterfront   : Factor w/ 2 levels \"0\",\"1\": 1 1 1 1 1 1 1 1 1 1 ...\n",
      " $ view         : int  0 0 0 0 0 0 0 0 0 0 ...\n",
      " $ condition    : Factor w/ 5 levels \"4\",\"3\",\"5\",\"1\",..: 1 2 3 1 2 2 2 2 3 1 ...\n",
      " $ grade        : Factor w/ 12 levels \"7\",\"10\",\"9\",\"11\",..: 1 2 3 1 4 5 6 2 6 1 ...\n",
      " $ sqft_above   : int  1340 2720 3580 810 4410 880 2070 3440 1270 1090 ...\n",
      " $ sqft_basement: int  670 1510 0 600 0 0 0 0 1070 250 ...\n",
      " $ yr_built     : int  1957 1990 1966 1923 2006 1942 1996 2001 1953 1941 ...\n",
      " $ yr_renovated : int  0 0 0 0 0 0 0 0 0 0 ...\n",
      " $ zipcode      : Factor w/ 70 levels \"98133\",\"98074\",..: 1 2 3 4 5 6 7 8 9 10 ...\n",
      " $ lat          : num  47.7 47.6 47.5 47.7 47.6 ...\n",
      " $ long         : num  -122 -122 -122 -122 -122 ...\n",
      " $ sqft_living15: int  1500 3280 3390 1760 2720 1370 2620 3310 1600 1550 ...\n",
      " $ sqft_lot15   : int  8400 22393 17000 5000 11454 7695 9617 6528 6000 1755 ...\n"
     ]
    }
   ],
   "source": [
    "\n",
    "##overal EDA\n",
    "\n",
    "\n",
    "\n",
    "date_var<-c(\"date\",\"yr_built\",\"yr_renovated\")\n",
    "fac_var<-c(\"waterfront\",\"zipcode\",\"grade\",\"condition\")\n",
    "num_var<-c(\"price\",\"bedrooms\",\"bathrooms\",\"sqft_living\",\"sqft_lot\",\"floors\",\"view\",\"sqft_above\",\"sqft_basement\",\"lat\",\"long\",\"sqft_living15\",\"sqft_lot15\")\n",
    "\n",
    "\n",
    "unique_zipcode<-unique(kc_house$zipcode)\n",
    "unique_waterfront<-unique(kc_house$waterfront)\n",
    "unique_grade<-unique(kc_house$grade)\n",
    "unique_condition<-unique(kc_house$condition)\n",
    "\n",
    "\n",
    "kc_house$zipcode<-factor(kc_house$zipcode,levels=unique_zipcode)\n",
    "kc_house$waterfront<-factor(kc_house$waterfront,levels=unique_waterfront)\n",
    "kc_house$grade<-factor(kc_house$grade,levels=unique_grade)\n",
    "kc_house$condition<-factor(kc_house$condition,levels=unique_condition)\n",
    "\n",
    "str(kc_house)\n",
    "\n",
    "\n",
    "\n",
    "kc_house$date<-substr(kc_house$date,1,8)\n",
    "kc_house$date_YMD<-as.Date(kc_house$date,format=\"%Y%m%d\")"
   ]
  },
  {
   "cell_type": "code",
   "execution_count": 5,
   "metadata": {},
   "outputs": [
    {
     "data": {
      "image/png": "[encoded data removed]",
      "text/plain": [
       "Plot with title \"\""
      ]
     },
     "metadata": {},
     "output_type": "display_data"
    }
   ],
   "source": [
    "#numerical value\n",
    "chart.Correlation(kc_house[,num_var], pch = 19, method = \"pearson\")"
   ]
  },
  {
   "cell_type": "code",
   "execution_count": 6,
   "metadata": {},
   "outputs": [
    {
     "data": {
      "text/html": [
       "<table>\n",
       "<thead><tr><th></th><th scope=col>0%</th><th scope=col>25%</th><th scope=col>50%</th><th scope=col>75%</th><th scope=col>100%</th><th scope=col>Mean</th><th scope=col>SD</th><th scope=col>skenewss</th><th scope=col>kurtosis</th></tr></thead>\n",
       "<tbody>\n",
       "\t<tr><th scope=row>price</th><td>75000.00  </td><td>322500.00 </td><td>450000.00 </td><td>640000.00 </td><td>7700000.00</td><td>539118.63 </td><td>371022.18 </td><td> 4.28     </td><td> 38.99    </td></tr>\n",
       "\t<tr><th scope=row>bedrooms</th><td>    0.00  </td><td>     3.00 </td><td>     3.00 </td><td>     4.00 </td><td>     33.00</td><td>     3.37 </td><td>     0.94 </td><td> 2.41     </td><td> 62.79    </td></tr>\n",
       "\t<tr><th scope=row>bathrooms</th><td>    0.00  </td><td>     1.50 </td><td>     2.25 </td><td>     2.50 </td><td>      8.00</td><td>     2.11 </td><td>     0.77 </td><td> 0.56     </td><td>  1.43    </td></tr>\n",
       "\t<tr><th scope=row>sqft_living</th><td>  290.00  </td><td>  1420.00 </td><td>  1910.00 </td><td>  2538.00 </td><td>  12050.00</td><td>  2075.63 </td><td>   919.65 </td><td> 1.46     </td><td>  4.70    </td></tr>\n",
       "\t<tr><th scope=row>sqft_lot</th><td>  520.00  </td><td>  5100.00 </td><td>  7650.00 </td><td> 10769.00 </td><td>1164794.00</td><td> 15306.38 </td><td> 40714.07 </td><td>11.31     </td><td>197.67    </td></tr>\n",
       "\t<tr><th scope=row>floors</th><td>    1.00  </td><td>     1.00 </td><td>     1.50 </td><td>     2.00 </td><td>      3.50</td><td>     1.49 </td><td>     0.54 </td><td> 0.63     </td><td> -0.46    </td></tr>\n",
       "\t<tr><th scope=row>view</th><td>    0.00  </td><td>     0.00 </td><td>     0.00 </td><td>     0.00 </td><td>      4.00</td><td>     0.24 </td><td>     0.77 </td><td> 3.39     </td><td> 10.80    </td></tr>\n",
       "\t<tr><th scope=row>sqft_above</th><td>  290.00  </td><td>  1190.00 </td><td>  1550.00 </td><td>  2200.00 </td><td>   8860.00</td><td>  1784.76 </td><td>   829.36 </td><td> 1.46     </td><td>  3.40    </td></tr>\n",
       "\t<tr><th scope=row>sqft_basement</th><td>    0.00  </td><td>     0.00 </td><td>     0.00 </td><td>   560.00 </td><td>   4820.00</td><td>   290.87 </td><td>   441.40 </td><td> 1.59     </td><td>  2.85    </td></tr>\n",
       "\t<tr><th scope=row>lat</th><td>   47.16  </td><td>    47.47 </td><td>    47.57 </td><td>    47.68 </td><td>     47.78</td><td>    47.56 </td><td>     0.14 </td><td>-0.48     </td><td> -0.69    </td></tr>\n",
       "\t<tr><th scope=row>long</th><td> -122.52  </td><td>  -122.33 </td><td>  -122.23 </td><td>  -122.13 </td><td>   -121.31</td><td>  -122.21 </td><td>     0.14 </td><td> 0.88     </td><td>  1.07    </td></tr>\n",
       "\t<tr><th scope=row>sqft_living15</th><td>  460.00  </td><td>  1480.00 </td><td>  1840.00 </td><td>  2360.00 </td><td>   6210.00</td><td>  1984.27 </td><td>   686.71 </td><td> 1.13     </td><td>  1.71    </td></tr>\n",
       "\t<tr><th scope=row>sqft_lot15</th><td>  651.00  </td><td>  5110.00 </td><td>  7650.00 </td><td> 10125.00 </td><td> 858132.00</td><td> 12853.93 </td><td> 26831.54 </td><td> 8.80     </td><td>126.18    </td></tr>\n",
       "</tbody>\n",
       "</table>\n"
      ],
      "text/latex": [
       "\\begin{tabular}{r|lllllllll}\n",
       "  & 0\\% & 25\\% & 50\\% & 75\\% & 100\\% & Mean & SD & skenewss & kurtosis\\\\\n",
       "\\hline\n",
       "\tprice & 75000.00   & 322500.00  & 450000.00  & 640000.00  & 7700000.00 & 539118.63  & 371022.18  &  4.28      &  38.99    \\\\\n",
       "\tbedrooms &     0.00   &      3.00  &      3.00  &      4.00  &      33.00 &      3.37  &      0.94  &  2.41      &  62.79    \\\\\n",
       "\tbathrooms &     0.00   &      1.50  &      2.25  &      2.50  &       8.00 &      2.11  &      0.77  &  0.56      &   1.43    \\\\\n",
       "\tsqft\\_living &   290.00   &   1420.00  &   1910.00  &   2538.00  &   12050.00 &   2075.63  &    919.65  &  1.46      &   4.70    \\\\\n",
       "\tsqft\\_lot &   520.00   &   5100.00  &   7650.00  &  10769.00  & 1164794.00 &  15306.38  &  40714.07  & 11.31      & 197.67    \\\\\n",
       "\tfloors &     1.00   &      1.00  &      1.50  &      2.00  &       3.50 &      1.49  &      0.54  &  0.63      &  -0.46    \\\\\n",
       "\tview &     0.00   &      0.00  &      0.00  &      0.00  &       4.00 &      0.24  &      0.77  &  3.39      &  10.80    \\\\\n",
       "\tsqft\\_above &   290.00   &   1190.00  &   1550.00  &   2200.00  &    8860.00 &   1784.76  &    829.36  &  1.46      &   3.40    \\\\\n",
       "\tsqft\\_basement &     0.00   &      0.00  &      0.00  &    560.00  &    4820.00 &    290.87  &    441.40  &  1.59      &   2.85    \\\\\n",
       "\tlat &    47.16   &     47.47  &     47.57  &     47.68  &      47.78 &     47.56  &      0.14  & -0.48      &  -0.69    \\\\\n",
       "\tlong &  -122.52   &   -122.33  &   -122.23  &   -122.13  &    -121.31 &   -122.21  &      0.14  &  0.88      &   1.07    \\\\\n",
       "\tsqft\\_living15 &   460.00   &   1480.00  &   1840.00  &   2360.00  &    6210.00 &   1984.27  &    686.71  &  1.13      &   1.71    \\\\\n",
       "\tsqft\\_lot15 &   651.00   &   5110.00  &   7650.00  &  10125.00  &  858132.00 &  12853.93  &  26831.54  &  8.80      & 126.18    \\\\\n",
       "\\end{tabular}\n"
      ],
      "text/markdown": [
       "\n",
       "| <!--/--> | 0% | 25% | 50% | 75% | 100% | Mean | SD | skenewss | kurtosis |\n",
       "|---|---|---|---|---|---|---|---|---|---|\n",
       "| price | 75000.00   | 322500.00  | 450000.00  | 640000.00  | 7700000.00 | 539118.63  | 371022.18  |  4.28      |  38.99     |\n",
       "| bedrooms |     0.00   |      3.00  |      3.00  |      4.00  |      33.00 |      3.37  |      0.94  |  2.41      |  62.79     |\n",
       "| bathrooms |     0.00   |      1.50  |      2.25  |      2.50  |       8.00 |      2.11  |      0.77  |  0.56      |   1.43     |\n",
       "| sqft_living |   290.00   |   1420.00  |   1910.00  |   2538.00  |   12050.00 |   2075.63  |    919.65  |  1.46      |   4.70     |\n",
       "| sqft_lot |   520.00   |   5100.00  |   7650.00  |  10769.00  | 1164794.00 |  15306.38  |  40714.07  | 11.31      | 197.67     |\n",
       "| floors |     1.00   |      1.00  |      1.50  |      2.00  |       3.50 |      1.49  |      0.54  |  0.63      |  -0.46     |\n",
       "| view |     0.00   |      0.00  |      0.00  |      0.00  |       4.00 |      0.24  |      0.77  |  3.39      |  10.80     |\n",
       "| sqft_above |   290.00   |   1190.00  |   1550.00  |   2200.00  |    8860.00 |   1784.76  |    829.36  |  1.46      |   3.40     |\n",
       "| sqft_basement |     0.00   |      0.00  |      0.00  |    560.00  |    4820.00 |    290.87  |    441.40  |  1.59      |   2.85     |\n",
       "| lat |    47.16   |     47.47  |     47.57  |     47.68  |      47.78 |     47.56  |      0.14  | -0.48      |  -0.69     |\n",
       "| long |  -122.52   |   -122.33  |   -122.23  |   -122.13  |    -121.31 |   -122.21  |      0.14  |  0.88      |   1.07     |\n",
       "| sqft_living15 |   460.00   |   1480.00  |   1840.00  |   2360.00  |    6210.00 |   1984.27  |    686.71  |  1.13      |   1.71     |\n",
       "| sqft_lot15 |   651.00   |   5110.00  |   7650.00  |  10125.00  |  858132.00 |  12853.93  |  26831.54  |  8.80      | 126.18     |\n",
       "\n"
      ],
      "text/plain": [
       "              0%       25%       50%       75%       100%       Mean     \n",
       "price         75000.00 322500.00 450000.00 640000.00 7700000.00 539118.63\n",
       "bedrooms          0.00      3.00      3.00      4.00      33.00      3.37\n",
       "bathrooms         0.00      1.50      2.25      2.50       8.00      2.11\n",
       "sqft_living     290.00   1420.00   1910.00   2538.00   12050.00   2075.63\n",
       "sqft_lot        520.00   5100.00   7650.00  10769.00 1164794.00  15306.38\n",
       "floors            1.00      1.00      1.50      2.00       3.50      1.49\n",
       "view              0.00      0.00      0.00      0.00       4.00      0.24\n",
       "sqft_above      290.00   1190.00   1550.00   2200.00    8860.00   1784.76\n",
       "sqft_basement     0.00      0.00      0.00    560.00    4820.00    290.87\n",
       "lat              47.16     47.47     47.57     47.68      47.78     47.56\n",
       "long           -122.52   -122.33   -122.23   -122.13    -121.31   -122.21\n",
       "sqft_living15   460.00   1480.00   1840.00   2360.00    6210.00   1984.27\n",
       "sqft_lot15      651.00   5110.00   7650.00  10125.00  858132.00  12853.93\n",
       "              SD        skenewss kurtosis\n",
       "price         371022.18  4.28     38.99  \n",
       "bedrooms           0.94  2.41     62.79  \n",
       "bathrooms          0.77  0.56      1.43  \n",
       "sqft_living      919.65  1.46      4.70  \n",
       "sqft_lot       40714.07 11.31    197.67  \n",
       "floors             0.54  0.63     -0.46  \n",
       "view               0.77  3.39     10.80  \n",
       "sqft_above       829.36  1.46      3.40  \n",
       "sqft_basement    441.40  1.59      2.85  \n",
       "lat                0.14 -0.48     -0.69  \n",
       "long               0.14  0.88      1.07  \n",
       "sqft_living15    686.71  1.13      1.71  \n",
       "sqft_lot15     26831.54  8.80    126.18  "
      ]
     },
     "metadata": {},
     "output_type": "display_data"
    }
   ],
   "source": [
    "#distribution\n",
    "distribution <- as.data.frame(t(sapply(kc_house[,num_var], quantile)))\n",
    "distribution$Mean <- sapply(kc_house[,num_var], mean)\n",
    "distribution$SD <- sapply(kc_house[,num_var], sd)\n",
    "distribution$skenewss <- sapply(kc_house[,num_var], skewness)\n",
    "distribution$kurtosis <- sapply(kc_house[,num_var], kurtosis)\n",
    "distribution<-round(distribution, 2)\n",
    "distribution"
   ]
  },
  {
   "cell_type": "code",
   "execution_count": 7,
   "metadata": {},
   "outputs": [
    {
     "data": {
      "image/png": "[encoded data removed]",
      "text/plain": [
       "plot without title"
      ]
     },
     "metadata": {},
     "output_type": "display_data"
    }
   ],
   "source": [
    "\n",
    "###feature engineering\n",
    "\n",
    "##date, year built, renovated year (date)\n",
    "\n",
    "\n",
    "\n",
    "#date\n",
    "\n",
    "kc_house$trade_date<-substr(kc_house$date,1,6)\n",
    "ggplot(data=kc_house,aes(x=trade_date, y=price))+geom_boxplot() \n"
   ]
  },
  {
   "cell_type": "code",
   "execution_count": 8,
   "metadata": {},
   "outputs": [
    {
     "data": {
      "text/html": [
       "<table>\n",
       "<thead><tr><th scope=col>trade_date</th><th scope=col>count</th></tr></thead>\n",
       "<tbody>\n",
       "\t<tr><td>201405</td><td>1328  </td></tr>\n",
       "\t<tr><td>201406</td><td>1603  </td></tr>\n",
       "\t<tr><td>201407</td><td>1620  </td></tr>\n",
       "\t<tr><td>201408</td><td>1472  </td></tr>\n",
       "\t<tr><td>201409</td><td>1319  </td></tr>\n",
       "\t<tr><td>201410</td><td>1409  </td></tr>\n",
       "\t<tr><td>201411</td><td>1065  </td></tr>\n",
       "\t<tr><td>201412</td><td>1115  </td></tr>\n",
       "\t<tr><td>201501</td><td> 751  </td></tr>\n",
       "\t<tr><td>201502</td><td> 958  </td></tr>\n",
       "\t<tr><td>201503</td><td>1418  </td></tr>\n",
       "\t<tr><td>201504</td><td>1667  </td></tr>\n",
       "\t<tr><td>201505</td><td> 484  </td></tr>\n",
       "</tbody>\n",
       "</table>\n"
      ],
      "text/latex": [
       "\\begin{tabular}{r|ll}\n",
       " trade\\_date & count\\\\\n",
       "\\hline\n",
       "\t 201405 & 1328  \\\\\n",
       "\t 201406 & 1603  \\\\\n",
       "\t 201407 & 1620  \\\\\n",
       "\t 201408 & 1472  \\\\\n",
       "\t 201409 & 1319  \\\\\n",
       "\t 201410 & 1409  \\\\\n",
       "\t 201411 & 1065  \\\\\n",
       "\t 201412 & 1115  \\\\\n",
       "\t 201501 &  751  \\\\\n",
       "\t 201502 &  958  \\\\\n",
       "\t 201503 & 1418  \\\\\n",
       "\t 201504 & 1667  \\\\\n",
       "\t 201505 &  484  \\\\\n",
       "\\end{tabular}\n"
      ],
      "text/markdown": [
       "\n",
       "| trade_date | count |\n",
       "|---|---|\n",
       "| 201405 | 1328   |\n",
       "| 201406 | 1603   |\n",
       "| 201407 | 1620   |\n",
       "| 201408 | 1472   |\n",
       "| 201409 | 1319   |\n",
       "| 201410 | 1409   |\n",
       "| 201411 | 1065   |\n",
       "| 201412 | 1115   |\n",
       "| 201501 |  751   |\n",
       "| 201502 |  958   |\n",
       "| 201503 | 1418   |\n",
       "| 201504 | 1667   |\n",
       "| 201505 |  484   |\n",
       "\n"
      ],
      "text/plain": [
       "   trade_date count\n",
       "1  201405     1328 \n",
       "2  201406     1603 \n",
       "3  201407     1620 \n",
       "4  201408     1472 \n",
       "5  201409     1319 \n",
       "6  201410     1409 \n",
       "7  201411     1065 \n",
       "8  201412     1115 \n",
       "9  201501      751 \n",
       "10 201502      958 \n",
       "11 201503     1418 \n",
       "12 201504     1667 \n",
       "13 201505      484 "
      ]
     },
     "metadata": {},
     "output_type": "display_data"
    }
   ],
   "source": [
    "\n",
    "# supply and demand\n",
    "\n",
    "kc_house%>%group_by(trade_date)%>%summarize(count=n())"
   ]
  },
  {
   "cell_type": "code",
   "execution_count": 9,
   "metadata": {},
   "outputs": [],
   "source": [
    "\n",
    "# the age of houses\n",
    "kc_house$age_sold<-as.numeric(substr(kc_house$date,1,4))-kc_house$yr_built\n",
    "kc_house$age_sold_group<-ifelse(kc_house$age_sold<10,\"0~9\",\n",
    "                                ifelse(kc_house$age_sold<20,\"10~19\",\n",
    "                                       ifelse(kc_house$age_sold<30,\"20~29\",\n",
    "                                              ifelse(kc_house$age_sold<40,\"30~39\",\n",
    "                                                     ifelse(kc_house$age_sold<50,\"40~49\",\n",
    "                                                            ifelse(kc_house$age_sold<60,\"50~59\",\n",
    "                                                                   ifelse(kc_house$age_sold<70,\"60~69\",\n",
    "                                                                          ifelse(kc_house$age_sold<80,\"70~79\",\n",
    "                                                                                 ifelse(kc_house$age_sold<90,\"80~89\",\n",
    "                                                                                        ifelse(kc_house$age_sold<100,\"90~99\",\"100+\"))))))))))\n",
    "\n",
    "\n",
    "\n",
    "#binary of renovation\n",
    "kc_house$yr_renovated_bi<-ifelse(kc_house$yr_renovated==0,\"0\",\"1\") \n",
    "kc_house$yr_renovated_bi<-factor(kc_house$yr_renovated_bi,levels=c(\"0\",\"1\")) #factor\n",
    "\n",
    "# the year\n",
    "kc_house$age_sold_reno<-ifelse(kc_house$yr_renovated==0,kc_house$age_sold,as.numeric(substr(kc_house$date,1,4))-kc_house$yr_renovated)\n",
    "kc_house$yr_built_reno<-ifelse(kc_house$yr_renovated==0,kc_house$yr_built,kc_house$yr_renovated)\n"
   ]
  },
  {
   "cell_type": "code",
   "execution_count": 10,
   "metadata": {},
   "outputs": [
    {
     "name": "stderr",
     "output_type": "stream",
     "text": [
      "`geom_smooth()` using method = 'gam' and formula 'y ~ s(x, bs = \"cs\")'\n",
      "`geom_smooth()` using method = 'gam' and formula 'y ~ s(x, bs = \"cs\")'\n"
     ]
    },
    {
     "data": {
      "text/plain": [
       "TableGrob (3 x 1) \"arrange\": 3 grobs\n",
       "  z     cells    name           grob\n",
       "1 1 (1-1,1-1) arrange gtable[layout]\n",
       "2 2 (2-2,1-1) arrange gtable[layout]\n",
       "3 3 (3-3,1-1) arrange gtable[layout]"
      ]
     },
     "metadata": {},
     "output_type": "display_data"
    },
    {
     "data": {
      "image/png": "[encoded data removed]",
      "text/plain": [
       "plot without title"
      ]
     },
     "metadata": {},
     "output_type": "display_data"
    }
   ],
   "source": [
    "\n",
    "\n",
    "v1 <- ggplot(kc_house, aes(yr_built)) +\n",
    "    geom_bar(fill = \"dodgerblue3\") +\n",
    "    ggtitle(\"the number of houses built by year\") +\n",
    "    theme_classic() +\n",
    "    theme(text = element_text(face =\"bold\"),\n",
    "          plot.title = element_text(hjust = 0.5))\n",
    "\n",
    "\n",
    "v2 <- ggplot(kc_house, aes(yr_built, price)) +\n",
    "    geom_smooth(se = TRUE, colour = \"dodgerblue3\") +\n",
    "    scale_x_continuous(breaks = scales::pretty_breaks(n = 10)) +\n",
    "    scale_y_continuous(breaks = scales::pretty_breaks(n = 8)) +\n",
    "    ggtitle(\"the price trend of houses built by year\") +\n",
    "    theme_classic() +\n",
    "    theme(text = element_text(face = \"bold\"),\n",
    "          plot.title=element_text(hjust=0.5))\n",
    "\n",
    "v3 <- ggplot(kc_house, aes(yr_built_reno, price)) +\n",
    "    geom_smooth(se = TRUE, colour = \"dodgerblue3\") +\n",
    "    scale_x_continuous(breaks = scales::pretty_breaks(n = 10)) +\n",
    "    scale_y_continuous(breaks = scales::pretty_breaks(n = 8)) +\n",
    "    ggtitle(\"the price trend of houses built by adjusted year\") +\n",
    "    theme_classic() +\n",
    "    theme(text = element_text(face = \"bold\"),\n",
    "          plot.title=element_text(hjust=0.5))\n",
    "\n",
    "\n",
    "v4<-ggplot(kc_house)+\n",
    "    geom_smooth(aes(yr_built_reno, price),se=FALSE, colour = \"firebrick2\")+\n",
    "    geom_smooth(aes(yr_built, price),se=FALSE, colour=\"dodgerblue3\")+\n",
    "    xlab(\"(built/adjusted built) year \")+\n",
    "    ggtitle(\"comparison of price by adjusted year\") +\n",
    "    theme_classic()+\n",
    "    theme(text = element_text(face = \"bold\"),\n",
    "          plot.title=element_text(hjust=0.5))\n",
    "\n",
    "price_yr<- grid.arrange(v1,v2,v3)\n",
    "price_yr\n"
   ]
  },
  {
   "cell_type": "code",
   "execution_count": 11,
   "metadata": {},
   "outputs": [
    {
     "name": "stderr",
     "output_type": "stream",
     "text": [
      "`geom_smooth()` using method = 'loess' and formula 'y ~ x'\n",
      "`geom_smooth()` using method = 'loess' and formula 'y ~ x'\n"
     ]
    },
    {
     "data": {
      "text/plain": [
       "TableGrob (2 x 2) \"arrange\": 4 grobs\n",
       "  z     cells    name           grob\n",
       "1 1 (1-1,1-1) arrange gtable[layout]\n",
       "2 2 (1-1,2-2) arrange gtable[layout]\n",
       "3 3 (2-2,1-1) arrange gtable[layout]\n",
       "4 4 (2-2,2-2) arrange gtable[layout]"
      ]
     },
     "metadata": {},
     "output_type": "display_data"
    },
    {
     "data": {
      "image/png": "[encoded data removed]",
      "text/plain": [
       "plot without title"
      ]
     },
     "metadata": {},
     "output_type": "display_data"
    }
   ],
   "source": [
    "\n",
    "reno_1 <- ggplot(kc_house%>%filter(yr_renovated_bi==\"1\"), aes(yr_renovated)) +\n",
    "    geom_bar(fill = \"dodgerblue3\") +\n",
    "    theme_classic() \n",
    "\n",
    "\n",
    "reno_1_1 <- ggplot(kc_house%>%filter(yr_renovated_bi==\"1\"), aes(yr_built)) +\n",
    "    geom_bar(fill = \"dodgerblue3\") +\n",
    "    theme_classic() \n",
    "\n",
    "\n",
    "reno_2 <- ggplot(kc_house%>%filter(yr_renovated_bi==\"1\"), aes(yr_renovated, price)) +\n",
    "    geom_smooth(se = TRUE, colour = \"dodgerblue3\") +\n",
    "    scale_x_continuous(breaks = scales::pretty_breaks(n = 10)) +\n",
    "    scale_y_continuous(breaks = scales::pretty_breaks(n = 8)) +\n",
    "    theme_classic() \n",
    "\n",
    "\n",
    "reno_2_2 <- ggplot(kc_house%>%filter(yr_renovated_bi==\"1\"), aes(yr_built, price)) +\n",
    "    geom_smooth(se = TRUE, colour = \"dodgerblue3\") +\n",
    "    scale_x_continuous(breaks = scales::pretty_breaks(n = 10)) +\n",
    "    scale_y_continuous(breaks = scales::pretty_breaks(n = 8)) +\n",
    "    theme_classic()\n",
    "\n",
    "\n",
    "price_reno_yr<- grid.arrange(reno_1, reno_1_1, reno_2,reno_2_2)\n",
    "price_reno_yr"
   ]
  },
  {
   "cell_type": "code",
   "execution_count": 12,
   "metadata": {},
   "outputs": [
    {
     "data": {
      "image/png": "[encoded data removed]",
      "text/plain": [
       "plot without title"
      ]
     },
     "metadata": {},
     "output_type": "display_data"
    }
   ],
   "source": [
    "\n",
    "reno3 <- ggplot(kc_house,aes(age_sold_group,price,color=yr_renovated_bi))+\n",
    "    geom_boxplot()+\n",
    "    ggtitle(\"renovation effect in the same age band\") +\n",
    "    theme_classic() +\n",
    "    theme(text = element_text(face =\"bold\"),\n",
    "          plot.title = element_text(hjust = 0.5))\n",
    "\n",
    "reno3"
   ]
  },
  {
   "cell_type": "code",
   "execution_count": 13,
   "metadata": {},
   "outputs": [
    {
     "data": {
      "text/plain": [
       "TableGrob (2 x 1) \"arrange\": 2 grobs\n",
       "  z     cells    name           grob\n",
       "1 1 (1-1,1-1) arrange gtable[layout]\n",
       "2 2 (2-2,1-1) arrange gtable[layout]"
      ]
     },
     "metadata": {},
     "output_type": "display_data"
    },
    {
     "data": {
      "image/png": "[encoded data removed]",
      "text/plain": [
       "plot without title"
      ]
     },
     "metadata": {},
     "output_type": "display_data"
    }
   ],
   "source": [
    "## price \n",
    "\n",
    "\n",
    "price_1 <- ggplot(price_out_up, aes(price)) +\n",
    "    geom_histogram(fill = \"dodgerblue3\",binwidth = 100000) +\n",
    "    ggtitle(\"upper price outlier\") +\n",
    "    theme_classic() +\n",
    "    theme(text = element_text(face =\"bold\"),\n",
    "          plot.title = element_text(hjust = 0.5))\n",
    "\n",
    "price_2  <- ggplot(price_out_low, aes(price)) +\n",
    "    geom_histogram(fill = \"dodgerblue3\",binwidth = 5000) +\n",
    "    ggtitle(\"lower price outlier\") +\n",
    "    theme_classic() +\n",
    "    theme(text = element_text(face =\"bold\"),\n",
    "          plot.title = element_text(hjust = 0.5))\n",
    "\n",
    "price_outlier<- grid.arrange(price_1,price_2)\n",
    "price_outlier\n"
   ]
  },
  {
   "cell_type": "code",
   "execution_count": 14,
   "metadata": {},
   "outputs": [
    {
     "data": {
      "text/plain": [
       "   Min. 1st Qu.  Median    Mean 3rd Qu.    Max. \n",
       "  75000  322500  450000  539119  640000 7700000 "
      ]
     },
     "metadata": {},
     "output_type": "display_data"
    },
    {
     "data": {
      "text/html": [
       "<strong>0%:</strong> 75000"
      ],
      "text/latex": [
       "\\textbf{0\\textbackslash{}\\%:} 75000"
      ],
      "text/markdown": [
       "**0%:** 75000"
      ],
      "text/plain": [
       "   0% \n",
       "75000 "
      ]
     },
     "metadata": {},
     "output_type": "display_data"
    },
    {
     "data": {
      "text/html": [
       "<strong>25%:</strong> 322500"
      ],
      "text/latex": [
       "\\textbf{25\\textbackslash{}\\%:} 322500"
      ],
      "text/markdown": [
       "**25%:** 322500"
      ],
      "text/plain": [
       "   25% \n",
       "322500 "
      ]
     },
     "metadata": {},
     "output_type": "display_data"
    },
    {
     "data": {
      "text/html": [
       "<strong>50%:</strong> 450000"
      ],
      "text/latex": [
       "\\textbf{50\\textbackslash{}\\%:} 450000"
      ],
      "text/markdown": [
       "**50%:** 450000"
      ],
      "text/plain": [
       "   50% \n",
       "450000 "
      ]
     },
     "metadata": {},
     "output_type": "display_data"
    },
    {
     "data": {
      "text/html": [
       "<strong>75%:</strong> 640000"
      ],
      "text/latex": [
       "\\textbf{75\\textbackslash{}\\%:} 640000"
      ],
      "text/markdown": [
       "**75%:** 640000"
      ],
      "text/plain": [
       "   75% \n",
       "640000 "
      ]
     },
     "metadata": {},
     "output_type": "display_data"
    },
    {
     "data": {
      "text/html": [
       "<strong>100%:</strong> 7700000"
      ],
      "text/latex": [
       "\\textbf{100\\textbackslash{}\\%:} 7700000"
      ],
      "text/markdown": [
       "**100%:** 7700000"
      ],
      "text/plain": [
       "   100% \n",
       "7700000 "
      ]
     },
     "metadata": {},
     "output_type": "display_data"
    },
    {
     "data": {
      "text/plain": [
       "   Min. 1st Qu.  Median    Mean 3rd Qu.    Max. \n",
       "  47.16   47.47   47.57   47.56   47.68   47.78 "
      ]
     },
     "metadata": {},
     "output_type": "display_data"
    },
    {
     "data": {
      "text/plain": [
       "   Min. 1st Qu.  Median    Mean 3rd Qu.    Max. \n",
       " -122.5  -122.3  -122.2  -122.2  -122.1  -121.3 "
      ]
     },
     "metadata": {},
     "output_type": "display_data"
    }
   ],
   "source": [
    "\n",
    "##price category split by quantile\n",
    "\n",
    "kc_house$price_rank<-rank(-kc_house$price,na.last=\"keep\")\n",
    "kc_house<-kc_house%>%arrange(desc(kc_house$price)) #price rank\n",
    "\n",
    "summary(kc_house$price)\n",
    "\n",
    "quantile(kc_house$price)[1] #qunatile\n",
    "quantile(kc_house$price)[2]\n",
    "quantile(kc_house$price)[3]\n",
    "quantile(kc_house$price)[4]\n",
    "quantile(kc_house$price)[5]\n",
    "\n",
    "\n",
    "kc_house[which(kc_house$price>=quantile(kc_house$price)[4]),c(\"price_q\")]<-c(\"1\") #price qunatile \n",
    "kc_house[which(kc_house$price<quantile(kc_house$price)[4] & kc_house$price>=quantile(kc_house$price)[3]),c(\"price_q\")]<-c(\"2\")\n",
    "kc_house[which(kc_house$price<quantile(kc_house$price)[3] & kc_house$price>=quantile(kc_house$price)[2]),c(\"price_q\")]<-c(\"3\")\n",
    "kc_house[which(kc_house$price<quantile(kc_house$price)[2]),c(\"price_q\")]<-c(\"4\")\n",
    "\n",
    "\n",
    "summary(kc_house$lat)\n",
    "summary(kc_house$long)\n"
   ]
  },
  {
   "cell_type": "code",
   "execution_count": 15,
   "metadata": {},
   "outputs": [],
   "source": [
    "\n",
    "#location segmentation\n",
    "\n",
    "kc_house$lat_point<-NA\n",
    "kc_house$lat_point<-ifelse(kc_house$lat<47.2,1,\n",
    "                           ifelse(kc_house$lat<47.3,2,\n",
    "                                  ifelse(kc_house$lat<47.4,3,\n",
    "                                         ifelse(kc_house$lat<47.5,4,\n",
    "                                                ifelse(kc_house$lat<47.6,5,\n",
    "                                                       ifelse(kc_house$lat<47.7,7,\n",
    "                                                              ifelse(kc_house$lat<47.8,8,0)))))))\n",
    "\n",
    "\n",
    "kc_house$long_point<-ifelse(kc_house$long<(-122.5),1,\n",
    "                            ifelse(kc_house$long<(-122.25),2,\n",
    "                                   ifelse(kc_house$long<(-122.00),3,\n",
    "                                          ifelse(kc_house$long<(-121.75),4,\n",
    "                                                 ifelse(kc_house$long<(-121.50),5,\n",
    "                                                        ifelse(kc_house$long<(-121.25),7,\n",
    "                                                               ifelse(kc_house$long<(-121.00),8,0)))))))\n",
    "\n",
    "\n",
    "kc_house$location<-paste(kc_house$lat_point,kc_house$long_point,sep=\"\")\n",
    "\n",
    "\n",
    "kc_house_q1<-kc_house[which(kc_house$price_q==\"1\"),]\n",
    "kc_house_q2<-kc_house[which(kc_house$price_q==\"2\"),]\n",
    "kc_house_q3<-kc_house[which(kc_house$price_q==\"3\"),]\n",
    "kc_house_q4<-kc_house[which(kc_house$price_q==\"4\"),]"
   ]
  },
  {
   "cell_type": "code",
   "execution_count": 17,
   "metadata": {},
   "outputs": [
    {
     "data": {
      "text/plain": [
       "TableGrob (3 x 2) \"arrange\": 6 grobs\n",
       "  z     cells    name           grob\n",
       "1 1 (1-1,1-1) arrange gtable[layout]\n",
       "2 2 (1-1,2-2) arrange gtable[layout]\n",
       "3 3 (2-2,1-1) arrange gtable[layout]\n",
       "4 4 (2-2,2-2) arrange gtable[layout]\n",
       "5 5 (3-3,1-1) arrange gtable[layout]\n",
       "6 6 (3-3,2-2) arrange gtable[layout]"
      ]
     },
     "metadata": {},
     "output_type": "display_data"
    },
    {
     "data": {
      "image/png": "[encoded data removed]",
      "text/plain": [
       "plot without title"
      ]
     },
     "metadata": {},
     "output_type": "display_data"
    }
   ],
   "source": [
    "\n",
    "#location visualization 2\n",
    "loc_1<-ggplot(data=kc_house,mapping=aes(x=long,y=lat,color=price_q))+\n",
    "    geom_point()+\n",
    "    ggtitle(\"price qunatile by location\")+\n",
    "    theme_classic()+\n",
    "    theme(text = element_text(face =\"bold\"),\n",
    "          plot.title = element_text(hjust = 0.5))\n",
    "\n",
    "loc_2<-ggplot(data=kc_house,mapping=aes(x=long,y=lat))+\n",
    "    geom_point()+\n",
    "    stat_density2d()+\n",
    "    ggtitle(\"price qunatile by location with gradient\")+\n",
    "    theme_classic()+\n",
    "    theme(text = element_text(face =\"bold\"),\n",
    "          plot.title = element_text(hjust = 0.5))\n",
    "\n",
    "loc_q1<-ggplot(data=kc_house[which(kc_house$price_q==\"1\"),],mapping=aes(x=long,y=lat))+\n",
    "    geom_point()+\n",
    "    stat_density2d()+\n",
    "    ggtitle(\"price high 1 quantile by location with gradient\")+\n",
    "    theme_classic()+\n",
    "    theme(text = element_text(face =\"bold\"),\n",
    "          plot.title = element_text(hjust = 0.5))\n",
    "\n",
    "loc_q2<-ggplot(data=kc_house[which(kc_house$price_q==\"2\"),],mapping=aes(x=long,y=lat))+\n",
    "    geom_point()+\n",
    "    stat_density2d()+\n",
    "    ggtitle(\"price high 2 quantile by location with gradient\")+\n",
    "    theme_classic()+\n",
    "    theme(text = element_text(face =\"bold\"),\n",
    "          plot.title = element_text(hjust = 0.5))\n",
    "\n",
    "loc_q3<-ggplot(data=kc_house[which(kc_house$price_q==\"3\"),],mapping=aes(x=long,y=lat))+\n",
    "    geom_point()+\n",
    "    stat_density2d()+\n",
    "    ggtitle(\"price high 3 quantile by location with gradient\")+\n",
    "    theme_classic()+\n",
    "    theme(text = element_text(face =\"bold\"),\n",
    "          plot.title = element_text(hjust = 0.5))\n",
    "\n",
    "loc_q4<-ggplot(data=kc_house[which(kc_house$price_q==\"4\"),],mapping=aes(x=long,y=lat))+\n",
    "    geom_point()+\n",
    "    stat_density2d()+\n",
    "    ggtitle(\"price high 4 quantile by location with gradient\")+\n",
    "    theme_classic()+\n",
    "    theme(text = element_text(face =\"bold\"),\n",
    "          plot.title = element_text(hjust = 0.5))\n",
    "\n",
    "\n",
    "loc_total<- grid.arrange(loc_1,loc_2,loc_q1,loc_q2,loc_q3,loc_q4)\n",
    "loc_total"
   ]
  },
  {
   "cell_type": "code",
   "execution_count": 18,
   "metadata": {},
   "outputs": [
    {
     "name": "stderr",
     "output_type": "stream",
     "text": [
      "`geom_smooth()` using method = 'gam' and formula 'y ~ s(x, bs = \"cs\")'\n"
     ]
    },
    {
     "data": {
      "image/png": "[encoded data removed]",
      "text/plain": [
       "plot without title"
      ]
     },
     "metadata": {},
     "output_type": "display_data"
    }
   ],
   "source": [
    "\n",
    "##Distance calculation from the highest point\n",
    "\n",
    "kc_house$dist<-NA\n",
    "for (i in 1:nrow(kc_house)) {\n",
    "    \n",
    "    kc_house[i,c(\"dist\")] <- gdist(lon.1 = kc_house$long[i], \n",
    "                                   lat.1 = kc_house$lat[i], \n",
    "                                   lon.2 = kc_house$long[1], \n",
    "                                   lat.2 = kc_house$lat[1], \n",
    "                                   units=\"km\")\n",
    "}\n",
    "\n",
    "\n",
    "v5<-ggplot(kc_house,aes(dist,price))+\n",
    "    xlab(\"distance (km)\")+\n",
    "    ylab(\"price (dollar)\")+\n",
    "    geom_smooth(se=TRUE, colour=\"dodgerblue3\")+\n",
    "    scale_x_continuous(breaks = scales::pretty_breaks(n = 10)) +\n",
    "    scale_y_continuous(breaks = scales::pretty_breaks(n = 8)) +\n",
    "    ggtitle(\"the price by dist from the highest point\") +\n",
    "    theme_classic()+\n",
    "    theme(text=element_text(face=\"bold\"),\n",
    "          plot.title=element_text(hjust=0.5))\n",
    "\n",
    "v5"
   ]
  },
  {
   "cell_type": "code",
   "execution_count": 19,
   "metadata": {},
   "outputs": [
    {
     "data": {
      "text/html": [
       "<strong>25%:</strong> 5100"
      ],
      "text/latex": [
       "\\textbf{25\\textbackslash{}\\%:} 5100"
      ],
      "text/markdown": [
       "**25%:** 5100"
      ],
      "text/plain": [
       " 25% \n",
       "5100 "
      ]
     },
     "metadata": {},
     "output_type": "display_data"
    },
    {
     "data": {
      "text/html": [
       "<strong>50%:</strong> 7650"
      ],
      "text/latex": [
       "\\textbf{50\\textbackslash{}\\%:} 7650"
      ],
      "text/markdown": [
       "**50%:** 7650"
      ],
      "text/plain": [
       " 50% \n",
       "7650 "
      ]
     },
     "metadata": {},
     "output_type": "display_data"
    },
    {
     "data": {
      "text/html": [
       "<strong>75%:</strong> 10769"
      ],
      "text/latex": [
       "\\textbf{75\\textbackslash{}\\%:} 10769"
      ],
      "text/markdown": [
       "**75%:** 10769"
      ],
      "text/plain": [
       "  75% \n",
       "10769 "
      ]
     },
     "metadata": {},
     "output_type": "display_data"
    },
    {
     "data": {
      "text/html": [
       "<strong>100%:</strong> 1164794"
      ],
      "text/latex": [
       "\\textbf{100\\textbackslash{}\\%:} 1164794"
      ],
      "text/markdown": [
       "**100%:** 1164794"
      ],
      "text/plain": [
       "   100% \n",
       "1164794 "
      ]
     },
     "metadata": {},
     "output_type": "display_data"
    },
    {
     "data": {
      "text/html": [
       "<dl class=dl-horizontal>\n",
       "\t<dt>0%</dt>\n",
       "\t\t<dd>520</dd>\n",
       "\t<dt>5%</dt>\n",
       "\t\t<dd>1765.8</dd>\n",
       "\t<dt>10%</dt>\n",
       "\t\t<dd>3329.6</dd>\n",
       "\t<dt>15%</dt>\n",
       "\t\t<dd>4041</dd>\n",
       "\t<dt>20%</dt>\n",
       "\t\t<dd>4708</dd>\n",
       "\t<dt>25%</dt>\n",
       "\t\t<dd>5100</dd>\n",
       "\t<dt>30%</dt>\n",
       "\t\t<dd>5700</dd>\n",
       "\t<dt>35%</dt>\n",
       "\t\t<dd>6190.2</dd>\n",
       "\t<dt>40%</dt>\n",
       "\t\t<dd>6815.6</dd>\n",
       "\t<dt>45%</dt>\n",
       "\t\t<dd>7250</dd>\n",
       "\t<dt>50%</dt>\n",
       "\t\t<dd>7650</dd>\n",
       "\t<dt>55%</dt>\n",
       "\t\t<dd>8100</dd>\n",
       "\t<dt>60%</dt>\n",
       "\t\t<dd>8556</dd>\n",
       "\t<dt>65%</dt>\n",
       "\t\t<dd>9210.2</dd>\n",
       "\t<dt>70%</dt>\n",
       "\t\t<dd>9847</dd>\n",
       "\t<dt>75%</dt>\n",
       "\t\t<dd>10769</dd>\n",
       "\t<dt>80%</dt>\n",
       "\t\t<dd>12350</dd>\n",
       "\t<dt>85%</dt>\n",
       "\t\t<dd>15188</dd>\n",
       "\t<dt>90%</dt>\n",
       "\t\t<dd>21780</dd>\n",
       "\t<dt>95%</dt>\n",
       "\t\t<dd>43560</dd>\n",
       "\t<dt>100%</dt>\n",
       "\t\t<dd>1164794</dd>\n",
       "</dl>\n"
      ],
      "text/latex": [
       "\\begin{description*}\n",
       "\\item[0\\textbackslash{}\\%] 520\n",
       "\\item[5\\textbackslash{}\\%] 1765.8\n",
       "\\item[10\\textbackslash{}\\%] 3329.6\n",
       "\\item[15\\textbackslash{}\\%] 4041\n",
       "\\item[20\\textbackslash{}\\%] 4708\n",
       "\\item[25\\textbackslash{}\\%] 5100\n",
       "\\item[30\\textbackslash{}\\%] 5700\n",
       "\\item[35\\textbackslash{}\\%] 6190.2\n",
       "\\item[40\\textbackslash{}\\%] 6815.6\n",
       "\\item[45\\textbackslash{}\\%] 7250\n",
       "\\item[50\\textbackslash{}\\%] 7650\n",
       "\\item[55\\textbackslash{}\\%] 8100\n",
       "\\item[60\\textbackslash{}\\%] 8556\n",
       "\\item[65\\textbackslash{}\\%] 9210.2\n",
       "\\item[70\\textbackslash{}\\%] 9847\n",
       "\\item[75\\textbackslash{}\\%] 10769\n",
       "\\item[80\\textbackslash{}\\%] 12350\n",
       "\\item[85\\textbackslash{}\\%] 15188\n",
       "\\item[90\\textbackslash{}\\%] 21780\n",
       "\\item[95\\textbackslash{}\\%] 43560\n",
       "\\item[100\\textbackslash{}\\%] 1164794\n",
       "\\end{description*}\n"
      ],
      "text/markdown": [
       "0%\n",
       ":   5205%\n",
       ":   1765.810%\n",
       ":   3329.615%\n",
       ":   404120%\n",
       ":   470825%\n",
       ":   510030%\n",
       ":   570035%\n",
       ":   6190.240%\n",
       ":   6815.645%\n",
       ":   725050%\n",
       ":   765055%\n",
       ":   810060%\n",
       ":   855665%\n",
       ":   9210.270%\n",
       ":   984775%\n",
       ":   1076980%\n",
       ":   1235085%\n",
       ":   1518890%\n",
       ":   2178095%\n",
       ":   43560100%\n",
       ":   1164794\n",
       "\n"
      ],
      "text/plain": [
       "       0%        5%       10%       15%       20%       25%       30%       35% \n",
       "    520.0    1765.8    3329.6    4041.0    4708.0    5100.0    5700.0    6190.2 \n",
       "      40%       45%       50%       55%       60%       65%       70%       75% \n",
       "   6815.6    7250.0    7650.0    8100.0    8556.0    9210.2    9847.0   10769.0 \n",
       "      80%       85%       90%       95%      100% \n",
       "  12350.0   15188.0   21780.0   43560.0 1164794.0 "
      ]
     },
     "metadata": {},
     "output_type": "display_data"
    },
    {
     "data": {
      "text/plain": [
       "    sqft_lot      \n",
       " Min.   :  43560  \n",
       " 1st Qu.:  54014  \n",
       " Median :  88426  \n",
       " Mean   : 135810  \n",
       " 3rd Qu.: 201247  \n",
       " Max.   :1164794  "
      ]
     },
     "metadata": {},
     "output_type": "display_data"
    }
   ],
   "source": [
    "\n",
    "\n",
    "#lot category split\n",
    "kc_house$lot_rank<-rank(-kc_house$sqft_lot,na.last=\"keep\")\n",
    "kc_house<-kc_house%>%arrange(desc(kc_house$sqft_lot)) #lot rank\n",
    "\n",
    "quantile(kc_house$sqft_lot)[2]\n",
    "quantile(kc_house$sqft_lot)[3]\n",
    "quantile(kc_house$sqft_lot)[4]\n",
    "quantile(kc_house$sqft_lot)[5]\n",
    "\n",
    "qunatile_lot<-quantile(kc_house$sqft_lot, probs = seq(0, 1, 0.05), na.rm = FALSE, names = TRUE, type = 7)\n",
    "qunatile_lot\n",
    "\n",
    "kc_house[which(kc_house$sqft_lot>=qunatile_lot[20]),c(\"sqft_lot_q\")]<-c(\"1\") #95%\n",
    "kc_house[which(kc_house$sqft_lot<qunatile_lot[20] & kc_house$sqft_lot>=qunatile_lot[19]),c(\"sqft_lot_q\")]<-c(\"2\") #90%\n",
    "kc_house[which(kc_house$sqft_lot<qunatile_lot[19] & kc_house$sqft_lot>=qunatile_lot[18]),c(\"sqft_lot_q\")]<-c(\"3\") #85%\n",
    "kc_house[which(kc_house$sqft_lot<qunatile_lot[18] & kc_house$sqft_lot>=qunatile_lot[17]),c(\"sqft_lot_q\")]<-c(\"4\") #80%\n",
    "kc_house[which(kc_house$sqft_lot<qunatile_lot[17] & kc_house$sqft_lot>=qunatile_lot[16]),c(\"sqft_lot_q\")]<-c(\"5\") #75%\n",
    "kc_house[which(kc_house$sqft_lot<qunatile_lot[16] & kc_house$sqft_lot>=qunatile_lot[11]),c(\"sqft_lot_q\")]<-c(\"6\") #50~75%\n",
    "kc_house[which(kc_house$sqft_lot<qunatile_lot[11] & kc_house$sqft_lot>=qunatile_lot[6]),c(\"sqft_lot_q\")]<-c(\"7\")  #25~50%\n",
    "kc_house[which(kc_house$sqft_lot<qunatile_lot[6]),c(\"sqft_lot_q\")]<-c(\"8\") #0~50%\n",
    "\n",
    "\n",
    "summary(kc_house[which(kc_house$sqft_lot_q==\"1\"),][7])"
   ]
  },
  {
   "cell_type": "code",
   "execution_count": 20,
   "metadata": {},
   "outputs": [
    {
     "name": "stderr",
     "output_type": "stream",
     "text": [
      "Warning message:\n",
      "\"Removed 807 rows containing non-finite values (stat_bin).\"Warning message:\n",
      "\"Removed 1 rows containing missing values (geom_bar).\"Warning message:\n",
      "\"Removed 15389 rows containing non-finite values (stat_bin).\"Warning message:\n",
      "\"Removed 1 rows containing missing values (geom_bar).\""
     ]
    },
    {
     "data": {
      "image/png": "[encoded data removed]",
      "text/plain": [
       "plot without title"
      ]
     },
     "metadata": {},
     "output_type": "display_data"
    }
   ],
   "source": [
    "\n",
    "lot_1<-ggplot(kc_house,aes(sqft_lot))+\n",
    "    geom_histogram(binwidth=1000)+\n",
    "    ggtitle(\"lot distribution by 95%\")+\n",
    "    xlim(c(0,qunatile_lot[20]))+\n",
    "    theme_classic()+\n",
    "    theme(text=element_text(face=\"bold\"),\n",
    "          plot.title=element_text(hjust=0.5))\n",
    "\n",
    "lot_2<-ggplot(kc_house,aes(sqft_lot))+\n",
    "    geom_histogram(binwidth=10000)+\n",
    "    ggtitle(\"lot distribution over 95%\")+\n",
    "    xlim(c(qunatile_lot[20],qunatile_lot[21]))+\n",
    "    theme_classic()+\n",
    "    theme(text=element_text(face=\"bold\"),\n",
    "          plot.title=element_text(hjust=0.5))\n",
    "\n",
    "\n",
    "lot_total<- grid.arrange(lot_1,lot_2)"
   ]
  },
  {
   "cell_type": "code",
   "execution_count": 21,
   "metadata": {},
   "outputs": [
    {
     "name": "stderr",
     "output_type": "stream",
     "text": [
      "`geom_smooth()` using method = 'gam' and formula 'y ~ s(x, bs = \"cs\")'\n"
     ]
    },
    {
     "data": {
      "image/png": "[encoded data removed]",
      "text/plain": [
       "plot without title"
      ]
     },
     "metadata": {},
     "output_type": "display_data"
    }
   ],
   "source": [
    "#district \n",
    "\n",
    "district<-as.matrix(kc_house%>%group_by(location)%>%summarize(count=n())%>%arrange(-count)%>%filter(count>500)%>%select(location))\n",
    "\n",
    "\n",
    "\n",
    "district_total<-ggplot(kc_house, aes(sqft_lot, price, col=as.factor(price_q)))+\n",
    "    geom_jitter()+\n",
    "    xlab(\"lot of total\")+  \n",
    "    ylab(\"price of houses\")+\n",
    "    theme_classic()+\n",
    "    geom_smooth(se=TRUE)\n",
    "\n",
    "district_total"
   ]
  },
  {
   "cell_type": "code",
   "execution_count": 23,
   "metadata": {},
   "outputs": [
    {
     "name": "stderr",
     "output_type": "stream",
     "text": [
      "`geom_smooth()` using method = 'gam' and formula 'y ~ s(x, bs = \"cs\")'\n",
      "`geom_smooth()` using method = 'gam' and formula 'y ~ s(x, bs = \"cs\")'\n",
      "`geom_smooth()` using method = 'loess' and formula 'y ~ x'\n"
     ]
    },
    {
     "data": {
      "image/png": "[encoded data removed]",
      "text/plain": [
       "plot without title"
      ]
     },
     "metadata": {},
     "output_type": "display_data"
    }
   ],
   "source": [
    "for (i in (1:11)) {\n",
    "    \n",
    "    a<-ggplot(kc_house%>%filter(location==district[i]), aes(sqft_lot, price, col=as.factor(price_q)))+\n",
    "        geom_jitter()+\n",
    "        xlab(paste(\"lot of district \",district[i],sep=\"\"))+  \n",
    "        ylab(\"price of houses\")+\n",
    "        theme_classic()+\n",
    "        geom_smooth(se=TRUE)\n",
    "    \n",
    "    \n",
    "    \n",
    "    assign(paste(\"district_\",i,sep=\"\"),a)\n",
    "}\n",
    "\n",
    "grid.arrange(district_total,district_1,district_2)"
   ]
  },
  {
   "cell_type": "code",
   "execution_count": 24,
   "metadata": {},
   "outputs": [
    {
     "name": "stderr",
     "output_type": "stream",
     "text": [
      "`geom_smooth()` using method = 'loess' and formula 'y ~ x'\n",
      "`geom_smooth()` using method = 'loess' and formula 'y ~ x'\n",
      "`geom_smooth()` using method = 'loess' and formula 'y ~ x'\n"
     ]
    },
    {
     "data": {
      "image/png": "[encoded data removed]",
      "text/plain": [
       "plot without title"
      ]
     },
     "metadata": {},
     "output_type": "display_data"
    }
   ],
   "source": [
    "grid.arrange(district_3,district_4,district_5)"
   ]
  },
  {
   "cell_type": "code",
   "execution_count": 25,
   "metadata": {},
   "outputs": [
    {
     "name": "stderr",
     "output_type": "stream",
     "text": [
      "`geom_smooth()` using method = 'loess' and formula 'y ~ x'\n",
      "`geom_smooth()` using method = 'loess' and formula 'y ~ x'\n",
      "`geom_smooth()` using method = 'loess' and formula 'y ~ x'\n"
     ]
    },
    {
     "data": {
      "image/png": "[encoded data removed]",
      "text/plain": [
       "plot without title"
      ]
     },
     "metadata": {},
     "output_type": "display_data"
    }
   ],
   "source": [
    "grid.arrange(district_6,district_7,district_8)"
   ]
  },
  {
   "cell_type": "code",
   "execution_count": 26,
   "metadata": {},
   "outputs": [
    {
     "name": "stderr",
     "output_type": "stream",
     "text": [
      "`geom_smooth()` using method = 'loess' and formula 'y ~ x'\n",
      "`geom_smooth()` using method = 'loess' and formula 'y ~ x'\n",
      "`geom_smooth()` using method = 'loess' and formula 'y ~ x'\n"
     ]
    },
    {
     "data": {
      "image/png": "[encoded data removed]",
      "text/plain": [
       "plot without title"
      ]
     },
     "metadata": {},
     "output_type": "display_data"
    }
   ],
   "source": [
    "grid.arrange(district_9,district_10,district_11)"
   ]
  },
  {
   "cell_type": "code",
   "execution_count": 27,
   "metadata": {},
   "outputs": [
    {
     "data": {
      "text/plain": [
       "   Min. 1st Qu.  Median    Mean 3rd Qu.    Max. \n",
       "      1       1       1       1       1       1 "
      ]
     },
     "metadata": {},
     "output_type": "display_data"
    },
    {
     "data": {
      "text/plain": [
       "     Min.   1st Qu.    Median      Mean   3rd Qu.      Max. \n",
       "   0.1631   32.9838   58.4308   88.4235  106.6206 1346.1538 "
      ]
     },
     "metadata": {},
     "output_type": "display_data"
    }
   ],
   "source": [
    "#price_per_space (new feature engineering)\n",
    "\n",
    "summary(ifelse(kc_house$sqft_living==kc_house$sqft_above+kc_house$sqft_basement,1,0))\n",
    "\n",
    "kc_house$price_per_lot<-kc_house$price/kc_house$sqft_lot\n",
    "kc_house$price_per_living<-kc_house$price/kc_house$sqft_living\n",
    "kc_house$price_per_all<-kc_house$price/(kc_house$sqft_lot+kc_house$sqft_living)\n",
    "summary(kc_house$price_per_lot)"
   ]
  },
  {
   "cell_type": "code",
   "execution_count": 28,
   "metadata": {},
   "outputs": [
    {
     "data": {
      "image/png": "[encoded data removed]",
      "text/plain": [
       "plot without title"
      ]
     },
     "metadata": {},
     "output_type": "display_data"
    },
    {
     "data": {
      "image/png": "[encoded data removed]",
      "text/plain": [
       "plot without title"
      ]
     },
     "metadata": {},
     "output_type": "display_data"
    }
   ],
   "source": [
    "\n",
    "#base_binary_variable\n",
    "\n",
    "kc_house$sqft_base_bi<-NA\n",
    "kc_house$sqft_base_bi<-ifelse(kc_house$sqft_basement==0,\"0\",\"1\")\n",
    "\n",
    "\n",
    "\n",
    "base_1<-ggplot(kc_house, aes(age_sold_group, price)) +\n",
    "    geom_boxplot(aes(fill = sqft_base_bi)) +\n",
    "    coord_flip() +                                \n",
    "    scale_fill_tableau() +\n",
    "    labs(x = \"\", y = \"\") +\n",
    "    theme_minimal() +\n",
    "    theme(text = element_text(face = \"bold\"),\n",
    "          legend.position = \"bottom\",\n",
    "          panel.grid.major = element_blank(),\n",
    "          panel.grid.minor = element_blank(),\n",
    "          plot.title = element_text(hjust = 0.5),\n",
    "          axis.text.x = element_blank())   \n",
    "\n",
    "base_2<-ggplot(kc_house, aes(price_q, price)) +\n",
    "    geom_boxplot(aes(fill = sqft_base_bi)) +\n",
    "    coord_flip() +                                \n",
    "    scale_fill_tableau() +\n",
    "    labs(x = \"\", y = \"\") +\n",
    "    theme_minimal() +\n",
    "    theme(text = element_text(face = \"bold\"),\n",
    "          legend.position = \"bottom\",\n",
    "          panel.grid.major = element_blank(),\n",
    "          panel.grid.minor = element_blank(),\n",
    "          plot.title = element_text(hjust = 0.5),\n",
    "          axis.text.x = element_blank())   \n",
    "\n",
    "base_1\n",
    "base_2"
   ]
  },
  {
   "cell_type": "code",
   "execution_count": 29,
   "metadata": {},
   "outputs": [],
   "source": [
    "#rooms\n",
    "\n",
    "kc_house$bath_per_bed<-ifelse(kc_house$bedrooms==0,0,kc_house$bathrooms/kc_house$bedrooms)\n",
    "kc_house$rooms<-kc_house$bathrooms+kc_house$bedrooms\n",
    "kc_house$living_per_lot<-kc_house$sqft_living/kc_house$sqft_lot"
   ]
  },
  {
   "cell_type": "code",
   "execution_count": 30,
   "metadata": {},
   "outputs": [
    {
     "data": {
      "image/png": "[encoded data removed]",
      "text/plain": [
       "plot without title"
      ]
     },
     "metadata": {},
     "output_type": "display_data"
    }
   ],
   "source": [
    "\n",
    "\n",
    "\n",
    "#summary for mean and median price per lot\n",
    "\n",
    "summary_1<-kc_house%>%group_by(location,grade)%>%summarize(avg_living=mean(sqft_living),avg_price=mean(price))\n",
    "summary_1$ration<-summary_1$avg_price/summary_1$avg_living\n",
    "\n",
    "summary_2<-kc_house%>%group_by(location,grade)%>%summarize(m_living=median(sqft_living),m_price=median(price))\n",
    "summary_2$ration_2<-summary_2$m_price/summary_2$m_living\n",
    "\n",
    "\n",
    "kc_house$f_key<-paste(kc_house$grade,kc_house$location,sep=\"\")\n",
    "summary_1$f_key<-paste(summary_1$grade,summary_1$location,sep=\"\")\n",
    "\n",
    "kc_house<-left_join(kc_house,summary_1[,c(3:6)],by=\"f_key\")\n",
    "\n",
    "summary_2$f_key<-paste(summary_2$grade,summary_2$location,sep=\"\")\n",
    "\n",
    "kc_house<-left_join(kc_house,summary_2[,c(3:6)],by=\"f_key\")\n",
    "\n",
    "\n",
    "\n",
    "\n",
    "average_price<-ggplot(data=summary_1,aes(x=location, y=ration))+\n",
    "    geom_bar(stat=\"identity\")+\n",
    "    ggtitle(\"average price per lot\")+\n",
    "    theme_classic()+\n",
    "    theme(text=element_text(face=\"bold\"),\n",
    "          plot.title=element_text(hjust=0.5))\n",
    "\n",
    "median_price<-ggplot(data=summary_2,aes(x=location, y=ration_2))+\n",
    "    geom_bar(stat=\"identity\")+\n",
    "    ggtitle(\"median price per lot\")+\n",
    "    theme_classic()+\n",
    "    theme(text=element_text(face=\"bold\"),\n",
    "          plot.title=element_text(hjust=0.5))\n",
    "\n",
    "\n",
    "price_per_lot<- grid.arrange(average_price,median_price)"
   ]
  },
  {
   "cell_type": "code",
   "execution_count": 31,
   "metadata": {},
   "outputs": [
    {
     "data": {
      "text/html": [
       "<table>\n",
       "<thead><tr><th></th><th scope=col>freqRatio</th><th scope=col>percentUnique</th><th scope=col>zeroVar</th><th scope=col>nzv</th></tr></thead>\n",
       "<tbody>\n",
       "\t<tr><th scope=row>id</th><td>  1.000000 </td><td>99.41390585</td><td>FALSE      </td><td>FALSE      </td></tr>\n",
       "\t<tr><th scope=row>date</th><td>  1.010000 </td><td> 2.26417422</td><td>FALSE      </td><td>FALSE      </td></tr>\n",
       "\t<tr><th scope=row>price</th><td>  1.065041 </td><td>20.84644333</td><td>FALSE      </td><td>FALSE      </td></tr>\n",
       "\t<tr><th scope=row>bedrooms</th><td>  1.445705 </td><td> 0.08020236</td><td>FALSE      </td><td>FALSE      </td></tr>\n",
       "\t<tr><th scope=row>bathrooms</th><td>  1.375514 </td><td> 0.18508236</td><td>FALSE      </td><td>FALSE      </td></tr>\n",
       "\t<tr><th scope=row>sqft_living</th><td>  1.028302 </td><td> 5.71904498</td><td>FALSE      </td><td>FALSE      </td></tr>\n",
       "\t<tr><th scope=row>sqft_lot</th><td>  1.241860 </td><td>49.82417176</td><td>FALSE      </td><td>FALSE      </td></tr>\n",
       "\t<tr><th scope=row>floors</th><td>  1.319908 </td><td> 0.03701647</td><td>FALSE      </td><td>FALSE      </td></tr>\n",
       "\t<tr><th scope=row>waterfront</th><td>125.632812 </td><td> 0.01233882</td><td>FALSE      </td><td> TRUE      </td></tr>\n",
       "\t<tr><th scope=row>view</th><td> 20.683168 </td><td> 0.03084706</td><td>FALSE      </td><td> TRUE      </td></tr>\n",
       "\t<tr><th scope=row>condition</th><td>  2.437790 </td><td> 0.03084706</td><td>FALSE      </td><td>FALSE      </td></tr>\n",
       "\t<tr><th scope=row>grade</th><td>  1.488454 </td><td> 0.07403294</td><td>FALSE      </td><td>FALSE      </td></tr>\n",
       "\t<tr><th scope=row>sqft_above</th><td>  1.000000 </td><td> 5.20698377</td><td>FALSE      </td><td>FALSE      </td></tr>\n",
       "\t<tr><th scope=row>sqft_basement</th><td> 56.774566 </td><td> 1.75828244</td><td>FALSE      </td><td> TRUE      </td></tr>\n",
       "\t<tr><th scope=row>yr_built</th><td>  1.193548 </td><td> 0.71565180</td><td>FALSE      </td><td>FALSE      </td></tr>\n",
       "\t<tr><th scope=row>yr_renovated</th><td>209.675676 </td><td> 0.40101178</td><td>FALSE      </td><td> TRUE      </td></tr>\n",
       "\t<tr><th scope=row>zipcode</th><td>  1.065909 </td><td> 0.43185884</td><td>FALSE      </td><td>FALSE      </td></tr>\n",
       "\t<tr><th scope=row>lat</th><td>  1.066667 </td><td>29.40341785</td><td>FALSE      </td><td>FALSE      </td></tr>\n",
       "\t<tr><th scope=row>long</th><td>  1.137500 </td><td> 4.49133198</td><td>FALSE      </td><td>FALSE      </td></tr>\n",
       "\t<tr><th scope=row>sqft_living15</th><td>  1.046980 </td><td> 4.36794373</td><td>FALSE      </td><td>FALSE      </td></tr>\n",
       "\t<tr><th scope=row>sqft_lot15</th><td>  1.166667 </td><td>44.92565858</td><td>FALSE      </td><td>FALSE      </td></tr>\n",
       "\t<tr><th scope=row>date_YMD</th><td>  1.010000 </td><td> 2.26417422</td><td>FALSE      </td><td>FALSE      </td></tr>\n",
       "\t<tr><th scope=row>trade_date</th><td>  1.029012 </td><td> 0.08020236</td><td>FALSE      </td><td>FALSE      </td></tr>\n",
       "\t<tr><th scope=row>age_sold</th><td>  1.011494 </td><td> 0.72182121</td><td>FALSE      </td><td>FALSE      </td></tr>\n",
       "\t<tr><th scope=row>age_sold_group</th><td>  1.088465 </td><td> 0.06786353</td><td>FALSE      </td><td>FALSE      </td></tr>\n",
       "\t<tr><th scope=row>yr_renovated_bi</th><td> 22.389610 </td><td> 0.01233882</td><td>FALSE      </td><td> TRUE      </td></tr>\n",
       "\t<tr><th scope=row>age_sold_reno</th><td>  1.000000 </td><td> 0.72182121</td><td>FALSE      </td><td>FALSE      </td></tr>\n",
       "\t<tr><th scope=row>yr_built_reno</th><td>  1.328729 </td><td> 0.71565180</td><td>FALSE      </td><td>FALSE      </td></tr>\n",
       "\t<tr><th scope=row>price_rank</th><td>  1.065041 </td><td>20.84644333</td><td>FALSE      </td><td>FALSE      </td></tr>\n",
       "\t<tr><th scope=row>price_q</th><td>  1.010089 </td><td> 0.02467765</td><td>FALSE      </td><td>FALSE      </td></tr>\n",
       "\t<tr><th scope=row>lat_point</th><td>  1.072389 </td><td> 0.04318588</td><td>FALSE      </td><td>FALSE      </td></tr>\n",
       "\t<tr><th scope=row>long_point</th><td>  1.046591 </td><td> 0.03701647</td><td>FALSE      </td><td>FALSE      </td></tr>\n",
       "\t<tr><th scope=row>location</th><td>  1.364349 </td><td> 0.16657413</td><td>FALSE      </td><td>FALSE      </td></tr>\n",
       "\t<tr><th scope=row>dist</th><td>  1.333333 </td><td>97.06335986</td><td>FALSE      </td><td>FALSE      </td></tr>\n",
       "\t<tr><th scope=row>lot_rank</th><td>  1.241860 </td><td>49.82417176</td><td>FALSE      </td><td>FALSE      </td></tr>\n",
       "\t<tr><th scope=row>sqft_lot_q</th><td>  1.002222 </td><td> 0.04935530</td><td>FALSE      </td><td>FALSE      </td></tr>\n",
       "\t<tr><th scope=row>price_per_lot</th><td>  1.083333 </td><td>93.73804676</td><td>FALSE      </td><td>FALSE      </td></tr>\n",
       "\t<tr><th scope=row>price_per_living</th><td>  1.515152 </td><td>80.22086495</td><td>FALSE      </td><td>FALSE      </td></tr>\n",
       "\t<tr><th scope=row>price_per_all</th><td>  1.000000 </td><td>98.24171756</td><td>FALSE      </td><td>FALSE      </td></tr>\n",
       "\t<tr><th scope=row>sqft_base_bi</th><td>  1.537811 </td><td> 0.01233882</td><td>FALSE      </td><td>FALSE      </td></tr>\n",
       "\t<tr><th scope=row>bath_per_bed</th><td>  1.315310 </td><td> 0.52440002</td><td>FALSE      </td><td>FALSE      </td></tr>\n",
       "\t<tr><th scope=row>rooms</th><td>  1.024615 </td><td> 0.33314825</td><td>FALSE      </td><td>FALSE      </td></tr>\n",
       "\t<tr><th scope=row>living_per_lot</th><td>  1.000000 </td><td>90.28317601</td><td>FALSE      </td><td>FALSE      </td></tr>\n",
       "\t<tr><th scope=row>f_key</th><td>  1.320455 </td><td> 1.07347770</td><td>FALSE      </td><td>FALSE      </td></tr>\n",
       "\t<tr><th scope=row>avg_living</th><td>  1.320455 </td><td> 1.04880005</td><td>FALSE      </td><td>FALSE      </td></tr>\n",
       "\t<tr><th scope=row>avg_price</th><td>  1.320455 </td><td> 1.06730829</td><td>FALSE      </td><td>FALSE      </td></tr>\n",
       "\t<tr><th scope=row>ration</th><td>  1.320455 </td><td> 1.07347770</td><td>FALSE      </td><td>FALSE      </td></tr>\n",
       "\t<tr><th scope=row>m_living</th><td>  1.071483 </td><td> 0.94392004</td><td>FALSE      </td><td>FALSE      </td></tr>\n",
       "\t<tr><th scope=row>m_price</th><td>  1.321591 </td><td> 0.96859769</td><td>FALSE      </td><td>FALSE      </td></tr>\n",
       "\t<tr><th scope=row>ration_2</th><td>  1.320455 </td><td> 1.06730829</td><td>FALSE      </td><td>FALSE      </td></tr>\n",
       "</tbody>\n",
       "</table>\n"
      ],
      "text/latex": [
       "\\begin{tabular}{r|llll}\n",
       "  & freqRatio & percentUnique & zeroVar & nzv\\\\\n",
       "\\hline\n",
       "\tid &   1.000000  & 99.41390585 & FALSE       & FALSE      \\\\\n",
       "\tdate &   1.010000  &  2.26417422 & FALSE       & FALSE      \\\\\n",
       "\tprice &   1.065041  & 20.84644333 & FALSE       & FALSE      \\\\\n",
       "\tbedrooms &   1.445705  &  0.08020236 & FALSE       & FALSE      \\\\\n",
       "\tbathrooms &   1.375514  &  0.18508236 & FALSE       & FALSE      \\\\\n",
       "\tsqft\\_living &   1.028302  &  5.71904498 & FALSE       & FALSE      \\\\\n",
       "\tsqft\\_lot &   1.241860  & 49.82417176 & FALSE       & FALSE      \\\\\n",
       "\tfloors &   1.319908  &  0.03701647 & FALSE       & FALSE      \\\\\n",
       "\twaterfront & 125.632812  &  0.01233882 & FALSE       &  TRUE      \\\\\n",
       "\tview &  20.683168  &  0.03084706 & FALSE       &  TRUE      \\\\\n",
       "\tcondition &   2.437790  &  0.03084706 & FALSE       & FALSE      \\\\\n",
       "\tgrade &   1.488454  &  0.07403294 & FALSE       & FALSE      \\\\\n",
       "\tsqft\\_above &   1.000000  &  5.20698377 & FALSE       & FALSE      \\\\\n",
       "\tsqft\\_basement &  56.774566  &  1.75828244 & FALSE       &  TRUE      \\\\\n",
       "\tyr\\_built &   1.193548  &  0.71565180 & FALSE       & FALSE      \\\\\n",
       "\tyr\\_renovated & 209.675676  &  0.40101178 & FALSE       &  TRUE      \\\\\n",
       "\tzipcode &   1.065909  &  0.43185884 & FALSE       & FALSE      \\\\\n",
       "\tlat &   1.066667  & 29.40341785 & FALSE       & FALSE      \\\\\n",
       "\tlong &   1.137500  &  4.49133198 & FALSE       & FALSE      \\\\\n",
       "\tsqft\\_living15 &   1.046980  &  4.36794373 & FALSE       & FALSE      \\\\\n",
       "\tsqft\\_lot15 &   1.166667  & 44.92565858 & FALSE       & FALSE      \\\\\n",
       "\tdate\\_YMD &   1.010000  &  2.26417422 & FALSE       & FALSE      \\\\\n",
       "\ttrade\\_date &   1.029012  &  0.08020236 & FALSE       & FALSE      \\\\\n",
       "\tage\\_sold &   1.011494  &  0.72182121 & FALSE       & FALSE      \\\\\n",
       "\tage\\_sold\\_group &   1.088465  &  0.06786353 & FALSE       & FALSE      \\\\\n",
       "\tyr\\_renovated\\_bi &  22.389610  &  0.01233882 & FALSE       &  TRUE      \\\\\n",
       "\tage\\_sold\\_reno &   1.000000  &  0.72182121 & FALSE       & FALSE      \\\\\n",
       "\tyr\\_built\\_reno &   1.328729  &  0.71565180 & FALSE       & FALSE      \\\\\n",
       "\tprice\\_rank &   1.065041  & 20.84644333 & FALSE       & FALSE      \\\\\n",
       "\tprice\\_q &   1.010089  &  0.02467765 & FALSE       & FALSE      \\\\\n",
       "\tlat\\_point &   1.072389  &  0.04318588 & FALSE       & FALSE      \\\\\n",
       "\tlong\\_point &   1.046591  &  0.03701647 & FALSE       & FALSE      \\\\\n",
       "\tlocation &   1.364349  &  0.16657413 & FALSE       & FALSE      \\\\\n",
       "\tdist &   1.333333  & 97.06335986 & FALSE       & FALSE      \\\\\n",
       "\tlot\\_rank &   1.241860  & 49.82417176 & FALSE       & FALSE      \\\\\n",
       "\tsqft\\_lot\\_q &   1.002222  &  0.04935530 & FALSE       & FALSE      \\\\\n",
       "\tprice\\_per\\_lot &   1.083333  & 93.73804676 & FALSE       & FALSE      \\\\\n",
       "\tprice\\_per\\_living &   1.515152  & 80.22086495 & FALSE       & FALSE      \\\\\n",
       "\tprice\\_per\\_all &   1.000000  & 98.24171756 & FALSE       & FALSE      \\\\\n",
       "\tsqft\\_base\\_bi &   1.537811  &  0.01233882 & FALSE       & FALSE      \\\\\n",
       "\tbath\\_per\\_bed &   1.315310  &  0.52440002 & FALSE       & FALSE      \\\\\n",
       "\trooms &   1.024615  &  0.33314825 & FALSE       & FALSE      \\\\\n",
       "\tliving\\_per\\_lot &   1.000000  & 90.28317601 & FALSE       & FALSE      \\\\\n",
       "\tf\\_key &   1.320455  &  1.07347770 & FALSE       & FALSE      \\\\\n",
       "\tavg\\_living &   1.320455  &  1.04880005 & FALSE       & FALSE      \\\\\n",
       "\tavg\\_price &   1.320455  &  1.06730829 & FALSE       & FALSE      \\\\\n",
       "\tration &   1.320455  &  1.07347770 & FALSE       & FALSE      \\\\\n",
       "\tm\\_living &   1.071483  &  0.94392004 & FALSE       & FALSE      \\\\\n",
       "\tm\\_price &   1.321591  &  0.96859769 & FALSE       & FALSE      \\\\\n",
       "\tration\\_2 &   1.320455  &  1.06730829 & FALSE       & FALSE      \\\\\n",
       "\\end{tabular}\n"
      ],
      "text/markdown": [
       "\n",
       "| <!--/--> | freqRatio | percentUnique | zeroVar | nzv |\n",
       "|---|---|---|---|---|\n",
       "| id |   1.000000  | 99.41390585 | FALSE       | FALSE       |\n",
       "| date |   1.010000  |  2.26417422 | FALSE       | FALSE       |\n",
       "| price |   1.065041  | 20.84644333 | FALSE       | FALSE       |\n",
       "| bedrooms |   1.445705  |  0.08020236 | FALSE       | FALSE       |\n",
       "| bathrooms |   1.375514  |  0.18508236 | FALSE       | FALSE       |\n",
       "| sqft_living |   1.028302  |  5.71904498 | FALSE       | FALSE       |\n",
       "| sqft_lot |   1.241860  | 49.82417176 | FALSE       | FALSE       |\n",
       "| floors |   1.319908  |  0.03701647 | FALSE       | FALSE       |\n",
       "| waterfront | 125.632812  |  0.01233882 | FALSE       |  TRUE       |\n",
       "| view |  20.683168  |  0.03084706 | FALSE       |  TRUE       |\n",
       "| condition |   2.437790  |  0.03084706 | FALSE       | FALSE       |\n",
       "| grade |   1.488454  |  0.07403294 | FALSE       | FALSE       |\n",
       "| sqft_above |   1.000000  |  5.20698377 | FALSE       | FALSE       |\n",
       "| sqft_basement |  56.774566  |  1.75828244 | FALSE       |  TRUE       |\n",
       "| yr_built |   1.193548  |  0.71565180 | FALSE       | FALSE       |\n",
       "| yr_renovated | 209.675676  |  0.40101178 | FALSE       |  TRUE       |\n",
       "| zipcode |   1.065909  |  0.43185884 | FALSE       | FALSE       |\n",
       "| lat |   1.066667  | 29.40341785 | FALSE       | FALSE       |\n",
       "| long |   1.137500  |  4.49133198 | FALSE       | FALSE       |\n",
       "| sqft_living15 |   1.046980  |  4.36794373 | FALSE       | FALSE       |\n",
       "| sqft_lot15 |   1.166667  | 44.92565858 | FALSE       | FALSE       |\n",
       "| date_YMD |   1.010000  |  2.26417422 | FALSE       | FALSE       |\n",
       "| trade_date |   1.029012  |  0.08020236 | FALSE       | FALSE       |\n",
       "| age_sold |   1.011494  |  0.72182121 | FALSE       | FALSE       |\n",
       "| age_sold_group |   1.088465  |  0.06786353 | FALSE       | FALSE       |\n",
       "| yr_renovated_bi |  22.389610  |  0.01233882 | FALSE       |  TRUE       |\n",
       "| age_sold_reno |   1.000000  |  0.72182121 | FALSE       | FALSE       |\n",
       "| yr_built_reno |   1.328729  |  0.71565180 | FALSE       | FALSE       |\n",
       "| price_rank |   1.065041  | 20.84644333 | FALSE       | FALSE       |\n",
       "| price_q |   1.010089  |  0.02467765 | FALSE       | FALSE       |\n",
       "| lat_point |   1.072389  |  0.04318588 | FALSE       | FALSE       |\n",
       "| long_point |   1.046591  |  0.03701647 | FALSE       | FALSE       |\n",
       "| location |   1.364349  |  0.16657413 | FALSE       | FALSE       |\n",
       "| dist |   1.333333  | 97.06335986 | FALSE       | FALSE       |\n",
       "| lot_rank |   1.241860  | 49.82417176 | FALSE       | FALSE       |\n",
       "| sqft_lot_q |   1.002222  |  0.04935530 | FALSE       | FALSE       |\n",
       "| price_per_lot |   1.083333  | 93.73804676 | FALSE       | FALSE       |\n",
       "| price_per_living |   1.515152  | 80.22086495 | FALSE       | FALSE       |\n",
       "| price_per_all |   1.000000  | 98.24171756 | FALSE       | FALSE       |\n",
       "| sqft_base_bi |   1.537811  |  0.01233882 | FALSE       | FALSE       |\n",
       "| bath_per_bed |   1.315310  |  0.52440002 | FALSE       | FALSE       |\n",
       "| rooms |   1.024615  |  0.33314825 | FALSE       | FALSE       |\n",
       "| living_per_lot |   1.000000  | 90.28317601 | FALSE       | FALSE       |\n",
       "| f_key |   1.320455  |  1.07347770 | FALSE       | FALSE       |\n",
       "| avg_living |   1.320455  |  1.04880005 | FALSE       | FALSE       |\n",
       "| avg_price |   1.320455  |  1.06730829 | FALSE       | FALSE       |\n",
       "| ration |   1.320455  |  1.07347770 | FALSE       | FALSE       |\n",
       "| m_living |   1.071483  |  0.94392004 | FALSE       | FALSE       |\n",
       "| m_price |   1.321591  |  0.96859769 | FALSE       | FALSE       |\n",
       "| ration_2 |   1.320455  |  1.06730829 | FALSE       | FALSE       |\n",
       "\n"
      ],
      "text/plain": [
       "                 freqRatio  percentUnique zeroVar nzv  \n",
       "id                 1.000000 99.41390585   FALSE   FALSE\n",
       "date               1.010000  2.26417422   FALSE   FALSE\n",
       "price              1.065041 20.84644333   FALSE   FALSE\n",
       "bedrooms           1.445705  0.08020236   FALSE   FALSE\n",
       "bathrooms          1.375514  0.18508236   FALSE   FALSE\n",
       "sqft_living        1.028302  5.71904498   FALSE   FALSE\n",
       "sqft_lot           1.241860 49.82417176   FALSE   FALSE\n",
       "floors             1.319908  0.03701647   FALSE   FALSE\n",
       "waterfront       125.632812  0.01233882   FALSE    TRUE\n",
       "view              20.683168  0.03084706   FALSE    TRUE\n",
       "condition          2.437790  0.03084706   FALSE   FALSE\n",
       "grade              1.488454  0.07403294   FALSE   FALSE\n",
       "sqft_above         1.000000  5.20698377   FALSE   FALSE\n",
       "sqft_basement     56.774566  1.75828244   FALSE    TRUE\n",
       "yr_built           1.193548  0.71565180   FALSE   FALSE\n",
       "yr_renovated     209.675676  0.40101178   FALSE    TRUE\n",
       "zipcode            1.065909  0.43185884   FALSE   FALSE\n",
       "lat                1.066667 29.40341785   FALSE   FALSE\n",
       "long               1.137500  4.49133198   FALSE   FALSE\n",
       "sqft_living15      1.046980  4.36794373   FALSE   FALSE\n",
       "sqft_lot15         1.166667 44.92565858   FALSE   FALSE\n",
       "date_YMD           1.010000  2.26417422   FALSE   FALSE\n",
       "trade_date         1.029012  0.08020236   FALSE   FALSE\n",
       "age_sold           1.011494  0.72182121   FALSE   FALSE\n",
       "age_sold_group     1.088465  0.06786353   FALSE   FALSE\n",
       "yr_renovated_bi   22.389610  0.01233882   FALSE    TRUE\n",
       "age_sold_reno      1.000000  0.72182121   FALSE   FALSE\n",
       "yr_built_reno      1.328729  0.71565180   FALSE   FALSE\n",
       "price_rank         1.065041 20.84644333   FALSE   FALSE\n",
       "price_q            1.010089  0.02467765   FALSE   FALSE\n",
       "lat_point          1.072389  0.04318588   FALSE   FALSE\n",
       "long_point         1.046591  0.03701647   FALSE   FALSE\n",
       "location           1.364349  0.16657413   FALSE   FALSE\n",
       "dist               1.333333 97.06335986   FALSE   FALSE\n",
       "lot_rank           1.241860 49.82417176   FALSE   FALSE\n",
       "sqft_lot_q         1.002222  0.04935530   FALSE   FALSE\n",
       "price_per_lot      1.083333 93.73804676   FALSE   FALSE\n",
       "price_per_living   1.515152 80.22086495   FALSE   FALSE\n",
       "price_per_all      1.000000 98.24171756   FALSE   FALSE\n",
       "sqft_base_bi       1.537811  0.01233882   FALSE   FALSE\n",
       "bath_per_bed       1.315310  0.52440002   FALSE   FALSE\n",
       "rooms              1.024615  0.33314825   FALSE   FALSE\n",
       "living_per_lot     1.000000 90.28317601   FALSE   FALSE\n",
       "f_key              1.320455  1.07347770   FALSE   FALSE\n",
       "avg_living         1.320455  1.04880005   FALSE   FALSE\n",
       "avg_price          1.320455  1.06730829   FALSE   FALSE\n",
       "ration             1.320455  1.07347770   FALSE   FALSE\n",
       "m_living           1.071483  0.94392004   FALSE   FALSE\n",
       "m_price            1.321591  0.96859769   FALSE   FALSE\n",
       "ration_2           1.320455  1.06730829   FALSE   FALSE"
      ]
     },
     "metadata": {},
     "output_type": "display_data"
    }
   ],
   "source": [
    "\n",
    "# zerovariacne check\n",
    "\n",
    "nearZeroVar(kc_house,saveMetrics=TRUE)"
   ]
  },
  {
   "cell_type": "code",
   "execution_count": 32,
   "metadata": {},
   "outputs": [
    {
     "data": {
      "text/html": [
       "<table>\n",
       "<thead><tr><th></th><th scope=col>0%</th><th scope=col>25%</th><th scope=col>50%</th><th scope=col>75%</th><th scope=col>100%</th><th scope=col>Mean</th><th scope=col>SD</th><th scope=col>skenewss</th><th scope=col>kurtosis</th></tr></thead>\n",
       "<tbody>\n",
       "\t<tr><th scope=row>price</th><td> 75000.00 </td><td>322500.00 </td><td>450000.00 </td><td>640000.00 </td><td>7700000.00</td><td>539118.63 </td><td>371022.18 </td><td> 4.28     </td><td> 38.99    </td></tr>\n",
       "\t<tr><th scope=row>bedrooms</th><td>     0.00 </td><td>     3.00 </td><td>     3.00 </td><td>     4.00 </td><td>     33.00</td><td>     3.37 </td><td>     0.94 </td><td> 2.41     </td><td> 62.79    </td></tr>\n",
       "\t<tr><th scope=row>bathrooms</th><td>     0.00 </td><td>     1.50 </td><td>     2.25 </td><td>     2.50 </td><td>      8.00</td><td>     2.11 </td><td>     0.77 </td><td> 0.56     </td><td>  1.43    </td></tr>\n",
       "\t<tr><th scope=row>sqft_living</th><td>   290.00 </td><td>  1420.00 </td><td>  1910.00 </td><td>  2538.00 </td><td>  12050.00</td><td>  2075.63 </td><td>   919.65 </td><td> 1.46     </td><td>  4.70    </td></tr>\n",
       "\t<tr><th scope=row>sqft_lot</th><td>   520.00 </td><td>  5100.00 </td><td>  7650.00 </td><td> 10769.00 </td><td>1164794.00</td><td> 15306.38 </td><td> 40714.07 </td><td>11.31     </td><td>197.67    </td></tr>\n",
       "\t<tr><th scope=row>floors</th><td>     1.00 </td><td>     1.00 </td><td>     1.50 </td><td>     2.00 </td><td>      3.50</td><td>     1.49 </td><td>     0.54 </td><td> 0.63     </td><td> -0.46    </td></tr>\n",
       "\t<tr><th scope=row>view</th><td>     0.00 </td><td>     0.00 </td><td>     0.00 </td><td>     0.00 </td><td>      4.00</td><td>     0.24 </td><td>     0.77 </td><td> 3.39     </td><td> 10.80    </td></tr>\n",
       "\t<tr><th scope=row>sqft_above</th><td>   290.00 </td><td>  1190.00 </td><td>  1550.00 </td><td>  2200.00 </td><td>   8860.00</td><td>  1784.76 </td><td>   829.36 </td><td> 1.46     </td><td>  3.40    </td></tr>\n",
       "\t<tr><th scope=row>sqft_basement</th><td>     0.00 </td><td>     0.00 </td><td>     0.00 </td><td>   560.00 </td><td>   4820.00</td><td>   290.87 </td><td>   441.40 </td><td> 1.59     </td><td>  2.85    </td></tr>\n",
       "\t<tr><th scope=row>long</th><td>  -122.52 </td><td>  -122.33 </td><td>  -122.23 </td><td>  -122.13 </td><td>   -121.31</td><td>  -122.21 </td><td>     0.14 </td><td> 0.88     </td><td>  1.07    </td></tr>\n",
       "\t<tr><th scope=row>sqft_living15</th><td>   460.00 </td><td>  1480.00 </td><td>  1840.00 </td><td>  2360.00 </td><td>   6210.00</td><td>  1984.27 </td><td>   686.71 </td><td> 1.13     </td><td>  1.71    </td></tr>\n",
       "\t<tr><th scope=row>sqft_lot15</th><td>   651.00 </td><td>  5110.00 </td><td>  7650.00 </td><td> 10125.00 </td><td> 858132.00</td><td> 12853.93 </td><td> 26831.54 </td><td> 8.80     </td><td>126.18    </td></tr>\n",
       "\t<tr><th scope=row>age_sold</th><td>    -1.00 </td><td>    18.00 </td><td>    40.00 </td><td>    63.00 </td><td>    115.00</td><td>    43.40 </td><td>    29.30 </td><td> 0.47     </td><td> -0.65    </td></tr>\n",
       "\t<tr><th scope=row>age_sold_reno</th><td>    -1.00 </td><td>    16.00 </td><td>    37.00 </td><td>    60.00 </td><td>    115.00</td><td>    41.01 </td><td>    28.75 </td><td> 0.56     </td><td> -0.52    </td></tr>\n",
       "\t<tr><th scope=row>dist</th><td>     0.00 </td><td>     9.68 </td><td>    16.00 </td><td>    25.75 </td><td>     76.26</td><td>    18.66 </td><td>    11.36 </td><td> 0.77     </td><td>  0.15    </td></tr>\n",
       "\t<tr><th scope=row>price_per_lot</th><td>     0.16 </td><td>    32.98 </td><td>    58.43 </td><td>   106.62 </td><td>   1346.15</td><td>    88.42 </td><td>    93.59 </td><td> 2.86     </td><td> 12.30    </td></tr>\n",
       "\t<tr><th scope=row>price_per_living</th><td>    87.65 </td><td>   182.08 </td><td>   244.48 </td><td>   318.33 </td><td>    810.14</td><td>   264.19 </td><td>   110.12 </td><td> 1.26     </td><td>  2.18    </td></tr>\n",
       "\t<tr><th scope=row>price_per_all</th><td>     0.16 </td><td>    27.84 </td><td>    46.40 </td><td>    77.51 </td><td>    386.22</td><td>    59.37 </td><td>    45.61 </td><td> 1.63     </td><td>  3.29    </td></tr>\n",
       "\t<tr><th scope=row>bath_per_bed</th><td>     0.00 </td><td>     0.50 </td><td>     0.62 </td><td>     0.75 </td><td>      2.50</td><td>     0.64 </td><td>     0.21 </td><td> 0.74     </td><td>  1.94    </td></tr>\n",
       "\t<tr><th scope=row>rooms</th><td>     0.00 </td><td>     4.50 </td><td>     5.50 </td><td>     6.50 </td><td>     34.75</td><td>     5.48 </td><td>     1.49 </td><td> 0.88     </td><td> 10.22    </td></tr>\n",
       "\t<tr><th scope=row>living_per_lot</th><td>     0.00 </td><td>     0.16 </td><td>     0.24 </td><td>     0.40 </td><td>      4.65</td><td>     0.32 </td><td>     0.27 </td><td> 2.36     </td><td>  9.90    </td></tr>\n",
       "\t<tr><th scope=row>avg_living</th><td>   290.00 </td><td>  1636.14 </td><td>  1797.09 </td><td>  2308.93 </td><td>   9575.00</td><td>  2075.63 </td><td>   726.71 </td><td> 1.71     </td><td>  5.70    </td></tr>\n",
       "\t<tr><th scope=row>avg_price</th><td>100000.00 </td><td>331971.87 </td><td>466458.84 </td><td>636104.26 </td><td>5450000.00</td><td>539118.63 </td><td>302056.84 </td><td> 3.28     </td><td> 25.16    </td></tr>\n",
       "\t<tr><th scope=row>ration</th><td>   115.82 </td><td>   179.61 </td><td>   248.67 </td><td>   310.20 </td><td>    659.09</td><td>   255.27 </td><td>    73.30 </td><td> 0.36     </td><td> -0.29    </td></tr>\n",
       "\t<tr><th scope=row>m_living</th><td>   290.00 </td><td>  1580.00 </td><td>  1750.00 </td><td>  2260.00 </td><td>   9575.00</td><td>  2001.00 </td><td>   721.23 </td><td> 1.66     </td><td>  5.63    </td></tr>\n",
       "\t<tr><th scope=row>m_price</th><td>100000.00 </td><td>321900.00 </td><td>440000.00 </td><td>599950.00 </td><td>5450000.00</td><td>508071.90 </td><td>270407.13 </td><td> 3.60     </td><td> 34.74    </td></tr>\n",
       "\t<tr><th scope=row>ration_2</th><td>   106.92 </td><td>   176.19 </td><td>   253.25 </td><td>   287.98 </td><td>    659.09</td><td>   252.80 </td><td>    72.39 </td><td> 0.39     </td><td> -0.24    </td></tr>\n",
       "</tbody>\n",
       "</table>\n"
      ],
      "text/latex": [
       "\\begin{tabular}{r|lllllllll}\n",
       "  & 0\\% & 25\\% & 50\\% & 75\\% & 100\\% & Mean & SD & skenewss & kurtosis\\\\\n",
       "\\hline\n",
       "\tprice &  75000.00  & 322500.00  & 450000.00  & 640000.00  & 7700000.00 & 539118.63  & 371022.18  &  4.28      &  38.99    \\\\\n",
       "\tbedrooms &      0.00  &      3.00  &      3.00  &      4.00  &      33.00 &      3.37  &      0.94  &  2.41      &  62.79    \\\\\n",
       "\tbathrooms &      0.00  &      1.50  &      2.25  &      2.50  &       8.00 &      2.11  &      0.77  &  0.56      &   1.43    \\\\\n",
       "\tsqft\\_living &    290.00  &   1420.00  &   1910.00  &   2538.00  &   12050.00 &   2075.63  &    919.65  &  1.46      &   4.70    \\\\\n",
       "\tsqft\\_lot &    520.00  &   5100.00  &   7650.00  &  10769.00  & 1164794.00 &  15306.38  &  40714.07  & 11.31      & 197.67    \\\\\n",
       "\tfloors &      1.00  &      1.00  &      1.50  &      2.00  &       3.50 &      1.49  &      0.54  &  0.63      &  -0.46    \\\\\n",
       "\tview &      0.00  &      0.00  &      0.00  &      0.00  &       4.00 &      0.24  &      0.77  &  3.39      &  10.80    \\\\\n",
       "\tsqft\\_above &    290.00  &   1190.00  &   1550.00  &   2200.00  &    8860.00 &   1784.76  &    829.36  &  1.46      &   3.40    \\\\\n",
       "\tsqft\\_basement &      0.00  &      0.00  &      0.00  &    560.00  &    4820.00 &    290.87  &    441.40  &  1.59      &   2.85    \\\\\n",
       "\tlong &   -122.52  &   -122.33  &   -122.23  &   -122.13  &    -121.31 &   -122.21  &      0.14  &  0.88      &   1.07    \\\\\n",
       "\tsqft\\_living15 &    460.00  &   1480.00  &   1840.00  &   2360.00  &    6210.00 &   1984.27  &    686.71  &  1.13      &   1.71    \\\\\n",
       "\tsqft\\_lot15 &    651.00  &   5110.00  &   7650.00  &  10125.00  &  858132.00 &  12853.93  &  26831.54  &  8.80      & 126.18    \\\\\n",
       "\tage\\_sold &     -1.00  &     18.00  &     40.00  &     63.00  &     115.00 &     43.40  &     29.30  &  0.47      &  -0.65    \\\\\n",
       "\tage\\_sold\\_reno &     -1.00  &     16.00  &     37.00  &     60.00  &     115.00 &     41.01  &     28.75  &  0.56      &  -0.52    \\\\\n",
       "\tdist &      0.00  &      9.68  &     16.00  &     25.75  &      76.26 &     18.66  &     11.36  &  0.77      &   0.15    \\\\\n",
       "\tprice\\_per\\_lot &      0.16  &     32.98  &     58.43  &    106.62  &    1346.15 &     88.42  &     93.59  &  2.86      &  12.30    \\\\\n",
       "\tprice\\_per\\_living &     87.65  &    182.08  &    244.48  &    318.33  &     810.14 &    264.19  &    110.12  &  1.26      &   2.18    \\\\\n",
       "\tprice\\_per\\_all &      0.16  &     27.84  &     46.40  &     77.51  &     386.22 &     59.37  &     45.61  &  1.63      &   3.29    \\\\\n",
       "\tbath\\_per\\_bed &      0.00  &      0.50  &      0.62  &      0.75  &       2.50 &      0.64  &      0.21  &  0.74      &   1.94    \\\\\n",
       "\trooms &      0.00  &      4.50  &      5.50  &      6.50  &      34.75 &      5.48  &      1.49  &  0.88      &  10.22    \\\\\n",
       "\tliving\\_per\\_lot &      0.00  &      0.16  &      0.24  &      0.40  &       4.65 &      0.32  &      0.27  &  2.36      &   9.90    \\\\\n",
       "\tavg\\_living &    290.00  &   1636.14  &   1797.09  &   2308.93  &    9575.00 &   2075.63  &    726.71  &  1.71      &   5.70    \\\\\n",
       "\tavg\\_price & 100000.00  & 331971.87  & 466458.84  & 636104.26  & 5450000.00 & 539118.63  & 302056.84  &  3.28      &  25.16    \\\\\n",
       "\tration &    115.82  &    179.61  &    248.67  &    310.20  &     659.09 &    255.27  &     73.30  &  0.36      &  -0.29    \\\\\n",
       "\tm\\_living &    290.00  &   1580.00  &   1750.00  &   2260.00  &    9575.00 &   2001.00  &    721.23  &  1.66      &   5.63    \\\\\n",
       "\tm\\_price & 100000.00  & 321900.00  & 440000.00  & 599950.00  & 5450000.00 & 508071.90  & 270407.13  &  3.60      &  34.74    \\\\\n",
       "\tration\\_2 &    106.92  &    176.19  &    253.25  &    287.98  &     659.09 &    252.80  &     72.39  &  0.39      &  -0.24    \\\\\n",
       "\\end{tabular}\n"
      ],
      "text/markdown": [
       "\n",
       "| <!--/--> | 0% | 25% | 50% | 75% | 100% | Mean | SD | skenewss | kurtosis |\n",
       "|---|---|---|---|---|---|---|---|---|---|\n",
       "| price |  75000.00  | 322500.00  | 450000.00  | 640000.00  | 7700000.00 | 539118.63  | 371022.18  |  4.28      |  38.99     |\n",
       "| bedrooms |      0.00  |      3.00  |      3.00  |      4.00  |      33.00 |      3.37  |      0.94  |  2.41      |  62.79     |\n",
       "| bathrooms |      0.00  |      1.50  |      2.25  |      2.50  |       8.00 |      2.11  |      0.77  |  0.56      |   1.43     |\n",
       "| sqft_living |    290.00  |   1420.00  |   1910.00  |   2538.00  |   12050.00 |   2075.63  |    919.65  |  1.46      |   4.70     |\n",
       "| sqft_lot |    520.00  |   5100.00  |   7650.00  |  10769.00  | 1164794.00 |  15306.38  |  40714.07  | 11.31      | 197.67     |\n",
       "| floors |      1.00  |      1.00  |      1.50  |      2.00  |       3.50 |      1.49  |      0.54  |  0.63      |  -0.46     |\n",
       "| view |      0.00  |      0.00  |      0.00  |      0.00  |       4.00 |      0.24  |      0.77  |  3.39      |  10.80     |\n",
       "| sqft_above |    290.00  |   1190.00  |   1550.00  |   2200.00  |    8860.00 |   1784.76  |    829.36  |  1.46      |   3.40     |\n",
       "| sqft_basement |      0.00  |      0.00  |      0.00  |    560.00  |    4820.00 |    290.87  |    441.40  |  1.59      |   2.85     |\n",
       "| long |   -122.52  |   -122.33  |   -122.23  |   -122.13  |    -121.31 |   -122.21  |      0.14  |  0.88      |   1.07     |\n",
       "| sqft_living15 |    460.00  |   1480.00  |   1840.00  |   2360.00  |    6210.00 |   1984.27  |    686.71  |  1.13      |   1.71     |\n",
       "| sqft_lot15 |    651.00  |   5110.00  |   7650.00  |  10125.00  |  858132.00 |  12853.93  |  26831.54  |  8.80      | 126.18     |\n",
       "| age_sold |     -1.00  |     18.00  |     40.00  |     63.00  |     115.00 |     43.40  |     29.30  |  0.47      |  -0.65     |\n",
       "| age_sold_reno |     -1.00  |     16.00  |     37.00  |     60.00  |     115.00 |     41.01  |     28.75  |  0.56      |  -0.52     |\n",
       "| dist |      0.00  |      9.68  |     16.00  |     25.75  |      76.26 |     18.66  |     11.36  |  0.77      |   0.15     |\n",
       "| price_per_lot |      0.16  |     32.98  |     58.43  |    106.62  |    1346.15 |     88.42  |     93.59  |  2.86      |  12.30     |\n",
       "| price_per_living |     87.65  |    182.08  |    244.48  |    318.33  |     810.14 |    264.19  |    110.12  |  1.26      |   2.18     |\n",
       "| price_per_all |      0.16  |     27.84  |     46.40  |     77.51  |     386.22 |     59.37  |     45.61  |  1.63      |   3.29     |\n",
       "| bath_per_bed |      0.00  |      0.50  |      0.62  |      0.75  |       2.50 |      0.64  |      0.21  |  0.74      |   1.94     |\n",
       "| rooms |      0.00  |      4.50  |      5.50  |      6.50  |      34.75 |      5.48  |      1.49  |  0.88      |  10.22     |\n",
       "| living_per_lot |      0.00  |      0.16  |      0.24  |      0.40  |       4.65 |      0.32  |      0.27  |  2.36      |   9.90     |\n",
       "| avg_living |    290.00  |   1636.14  |   1797.09  |   2308.93  |    9575.00 |   2075.63  |    726.71  |  1.71      |   5.70     |\n",
       "| avg_price | 100000.00  | 331971.87  | 466458.84  | 636104.26  | 5450000.00 | 539118.63  | 302056.84  |  3.28      |  25.16     |\n",
       "| ration |    115.82  |    179.61  |    248.67  |    310.20  |     659.09 |    255.27  |     73.30  |  0.36      |  -0.29     |\n",
       "| m_living |    290.00  |   1580.00  |   1750.00  |   2260.00  |    9575.00 |   2001.00  |    721.23  |  1.66      |   5.63     |\n",
       "| m_price | 100000.00  | 321900.00  | 440000.00  | 599950.00  | 5450000.00 | 508071.90  | 270407.13  |  3.60      |  34.74     |\n",
       "| ration_2 |    106.92  |    176.19  |    253.25  |    287.98  |     659.09 |    252.80  |     72.39  |  0.39      |  -0.24     |\n",
       "\n"
      ],
      "text/plain": [
       "                 0%        25%       50%       75%       100%       Mean     \n",
       "price             75000.00 322500.00 450000.00 640000.00 7700000.00 539118.63\n",
       "bedrooms              0.00      3.00      3.00      4.00      33.00      3.37\n",
       "bathrooms             0.00      1.50      2.25      2.50       8.00      2.11\n",
       "sqft_living         290.00   1420.00   1910.00   2538.00   12050.00   2075.63\n",
       "sqft_lot            520.00   5100.00   7650.00  10769.00 1164794.00  15306.38\n",
       "floors                1.00      1.00      1.50      2.00       3.50      1.49\n",
       "view                  0.00      0.00      0.00      0.00       4.00      0.24\n",
       "sqft_above          290.00   1190.00   1550.00   2200.00    8860.00   1784.76\n",
       "sqft_basement         0.00      0.00      0.00    560.00    4820.00    290.87\n",
       "long               -122.52   -122.33   -122.23   -122.13    -121.31   -122.21\n",
       "sqft_living15       460.00   1480.00   1840.00   2360.00    6210.00   1984.27\n",
       "sqft_lot15          651.00   5110.00   7650.00  10125.00  858132.00  12853.93\n",
       "age_sold             -1.00     18.00     40.00     63.00     115.00     43.40\n",
       "age_sold_reno        -1.00     16.00     37.00     60.00     115.00     41.01\n",
       "dist                  0.00      9.68     16.00     25.75      76.26     18.66\n",
       "price_per_lot         0.16     32.98     58.43    106.62    1346.15     88.42\n",
       "price_per_living     87.65    182.08    244.48    318.33     810.14    264.19\n",
       "price_per_all         0.16     27.84     46.40     77.51     386.22     59.37\n",
       "bath_per_bed          0.00      0.50      0.62      0.75       2.50      0.64\n",
       "rooms                 0.00      4.50      5.50      6.50      34.75      5.48\n",
       "living_per_lot        0.00      0.16      0.24      0.40       4.65      0.32\n",
       "avg_living          290.00   1636.14   1797.09   2308.93    9575.00   2075.63\n",
       "avg_price        100000.00 331971.87 466458.84 636104.26 5450000.00 539118.63\n",
       "ration              115.82    179.61    248.67    310.20     659.09    255.27\n",
       "m_living            290.00   1580.00   1750.00   2260.00    9575.00   2001.00\n",
       "m_price          100000.00 321900.00 440000.00 599950.00 5450000.00 508071.90\n",
       "ration_2            106.92    176.19    253.25    287.98     659.09    252.80\n",
       "                 SD        skenewss kurtosis\n",
       "price            371022.18  4.28     38.99  \n",
       "bedrooms              0.94  2.41     62.79  \n",
       "bathrooms             0.77  0.56      1.43  \n",
       "sqft_living         919.65  1.46      4.70  \n",
       "sqft_lot          40714.07 11.31    197.67  \n",
       "floors                0.54  0.63     -0.46  \n",
       "view                  0.77  3.39     10.80  \n",
       "sqft_above          829.36  1.46      3.40  \n",
       "sqft_basement       441.40  1.59      2.85  \n",
       "long                  0.14  0.88      1.07  \n",
       "sqft_living15       686.71  1.13      1.71  \n",
       "sqft_lot15        26831.54  8.80    126.18  \n",
       "age_sold             29.30  0.47     -0.65  \n",
       "age_sold_reno        28.75  0.56     -0.52  \n",
       "dist                 11.36  0.77      0.15  \n",
       "price_per_lot        93.59  2.86     12.30  \n",
       "price_per_living    110.12  1.26      2.18  \n",
       "price_per_all        45.61  1.63      3.29  \n",
       "bath_per_bed          0.21  0.74      1.94  \n",
       "rooms                 1.49  0.88     10.22  \n",
       "living_per_lot        0.27  2.36      9.90  \n",
       "avg_living          726.71  1.71      5.70  \n",
       "avg_price        302056.84  3.28     25.16  \n",
       "ration               73.30  0.36     -0.29  \n",
       "m_living            721.23  1.66      5.63  \n",
       "m_price          270407.13  3.60     34.74  \n",
       "ration_2             72.39  0.39     -0.24  "
      ]
     },
     "metadata": {},
     "output_type": "display_data"
    }
   ],
   "source": [
    "num_var_2<-c(\"price\",\"bedrooms\",\"bathrooms\",\"sqft_living\",\n",
    "             \"sqft_lot\",\"floors\",\"view\",\"sqft_above\",\"sqft_basement\",\n",
    "             \"lat\",\"long\",\"sqft_living15\",\"sqft_lot15\",\"age_sold\",\n",
    "             \"age_sold_reno\",\"dist\",\"price_per_lot\",\"price_per_living\", \n",
    "             \"price_per_all\",\"bath_per_bed\",\"rooms\",\"living_per_lot\",\n",
    "             \"avg_living\",\"avg_price\",\"ration\",\"m_living\",\"m_price\",\n",
    "             \"ration_2\")\n",
    "\n",
    "\n",
    "\n",
    "distribution_2 <- as.data.frame(t(sapply(kc_house[,num_var_2], quantile)))\n",
    "distribution_2$Mean <- sapply(kc_house[,num_var_2], mean)\n",
    "distribution_2$SD <- sapply(kc_house[,num_var_2], sd)\n",
    "distribution_2$skenewss <- sapply(kc_house[,num_var_2], skewness)\n",
    "distribution_2$kurtosis <- sapply(kc_house[,num_var_2], kurtosis)\n",
    "distribution_2<-round(distribution_2, 2)\n",
    "\n",
    "\n",
    "distribution_2[which(distribution_2$skenewss>0),]"
   ]
  },
  {
   "cell_type": "code",
   "execution_count": 33,
   "metadata": {
    "scrolled": false
   },
   "outputs": [
    {
     "name": "stdout",
     "output_type": "stream",
     "text": [
      "'data.frame':\t16209 obs. of  50 variables:\n",
      " $ id              : num  3.33e+09 2.62e+09 7.22e+08 3.63e+09 2.62e+09 ...\n",
      " $ date            : chr  \"20150504\" \"20140521\" \"20140905\" \"20140730\" ...\n",
      " $ price           : num  190000 542500 998000 790000 1998000 ...\n",
      " $ bedrooms        : int  2 5 4 2 2 4 4 3 3 3 ...\n",
      " $ bathrooms       : num  1 3.25 3.25 3 2.5 3.25 5.5 2 2.5 2.5 ...\n",
      " $ sqft_living     : int  710 3010 3770 2560 3900 3920 6530 3650 2350 2530 ...\n",
      " $ sqft_lot        : int  1164794 1074218 982998 982278 920423 881654 871200 843309 715690 623779 ...\n",
      " $ floors          : num  1 1.5 2 1 2 3 2 2 1.5 1 ...\n",
      " $ waterfront      : Factor w/ 2 levels \"0\",\"1\": 1 1 1 1 1 1 1 1 1 1 ...\n",
      " $ view            : int  0 0 0 0 0 3 2 0 0 0 ...\n",
      " $ condition       : Factor w/ 5 levels \"4\",\"3\",\"5\",\"1\",..: 5 3 2 2 2 2 2 1 1 1 ...\n",
      " $ grade           : Factor w/ 12 levels \"7\",\"10\",\"9\",\"11\",..: 8 6 2 6 7 4 4 1 3 6 ...\n",
      " $ sqft_above      : int  710 2010 3770 2560 3900 3920 6530 3650 2350 2530 ...\n",
      " $ sqft_basement   : int  0 1000 0 0 0 0 0 0 0 0 ...\n",
      " $ yr_built        : int  1915 1931 1992 2004 2009 2002 2008 1991 1979 1980 ...\n",
      " $ yr_renovated    : int  0 0 0 0 0 0 0 0 0 0 ...\n",
      " $ zipcode         : Factor w/ 70 levels \"98133\",\"98074\",..: 54 16 13 54 34 67 54 39 59 14 ...\n",
      " $ lat             : num  47.7 47.5 47.4 47.7 47.5 ...\n",
      " $ long            : num  -122 -122 -122 -122 -122 ...\n",
      " $ sqft_living15   : int  1680 2450 2290 1620 2720 2970 1280 1870 1280 2120 ...\n",
      " $ sqft_lot15      : int  16730 68825 37141 40946 411962 112384 858132 273992 325393 100623 ...\n",
      " $ date_YMD        : Date, format: \"2015-05-04\" \"2014-05-21\" ...\n",
      " $ trade_date      : chr  \"201505\" \"201405\" \"201409\" \"201407\" ...\n",
      " $ age_sold        : num  100 83 22 10 6 13 7 23 36 35 ...\n",
      " $ age_sold_group  : chr  \"100+\" \"80~89\" \"20~29\" \"10~19\" ...\n",
      " $ yr_renovated_bi : Factor w/ 2 levels \"0\",\"1\": 1 1 1 1 1 1 1 1 1 1 ...\n",
      " $ age_sold_reno   : num  100 83 22 10 6 13 7 23 36 35 ...\n",
      " $ yr_built_reno   : int  1915 1931 1992 2004 2009 2002 2008 1991 1979 1980 ...\n",
      " $ price_rank      : num  15750 5865 1120 2286 156 ...\n",
      " $ price_q         : chr  \"4\" \"2\" \"1\" \"1\" ...\n",
      " $ lat_point       : num  7 4 4 7 5 5 7 3 1 4 ...\n",
      " $ long_point      : num  4 3 3 4 4 4 4 2 4 4 ...\n",
      " $ location        : chr  \"74\" \"43\" \"43\" \"74\" ...\n",
      " $ dist            : num  31.8 30.8 29.9 35.5 43.9 ...\n",
      " $ lot_rank        : num  1 2 3 4 5 6 7 8 9 10 ...\n",
      " $ sqft_lot_q      : chr  \"1\" \"1\" \"1\" \"1\" ...\n",
      " $ price_per_lot   : num  0.163 0.505 1.015 0.804 2.171 ...\n",
      " $ price_per_living: num  268 180 265 309 512 ...\n",
      " $ price_per_all   : num  0.163 0.504 1.011 0.802 2.162 ...\n",
      " $ sqft_base_bi    : chr  \"0\" \"1\" \"0\" \"0\" ...\n",
      " $ bath_per_bed    : num  0.5 0.65 0.812 1.5 1.25 ...\n",
      " $ rooms           : num  3 8.25 7.25 5 4.5 7.25 9.5 5 5.5 5.5 ...\n",
      " $ living_per_lot  : num  0.00061 0.0028 0.00384 0.00261 0.00424 ...\n",
      " $ f_key           : chr  \"574\" \"843\" \"1043\" \"874\" ...\n",
      " $ avg_living      : num  835 2327 3576 2639 6033 ...\n",
      " $ avg_price       : num  305425 411052 691660 518465 1993127 ...\n",
      " $ ration          : num  366 177 193 196 330 ...\n",
      " $ m_living        : num  835 2260 3440 2560 6070 ...\n",
      " $ m_price         : num  305425 380500 699000 498975 1998000 ...\n",
      " $ ration_2        : num  366 168 203 195 329 ...\n"
     ]
    },
    {
     "data": {
      "text/html": [
       "<ol class=list-inline>\n",
       "\t<li>'id'</li>\n",
       "\t<li>'date'</li>\n",
       "\t<li>'price'</li>\n",
       "\t<li>'bedrooms'</li>\n",
       "\t<li>'bathrooms'</li>\n",
       "\t<li>'sqft_living'</li>\n",
       "\t<li>'sqft_lot'</li>\n",
       "\t<li>'floors'</li>\n",
       "\t<li>'waterfront'</li>\n",
       "\t<li>'view'</li>\n",
       "\t<li>'condition'</li>\n",
       "\t<li>'grade'</li>\n",
       "\t<li>'sqft_above'</li>\n",
       "\t<li>'sqft_basement'</li>\n",
       "\t<li>'yr_built'</li>\n",
       "\t<li>'yr_renovated'</li>\n",
       "\t<li>'zipcode'</li>\n",
       "\t<li>'lat'</li>\n",
       "\t<li>'long'</li>\n",
       "\t<li>'sqft_living15'</li>\n",
       "\t<li>'sqft_lot15'</li>\n",
       "</ol>\n"
      ],
      "text/latex": [
       "\\begin{enumerate*}\n",
       "\\item 'id'\n",
       "\\item 'date'\n",
       "\\item 'price'\n",
       "\\item 'bedrooms'\n",
       "\\item 'bathrooms'\n",
       "\\item 'sqft\\_living'\n",
       "\\item 'sqft\\_lot'\n",
       "\\item 'floors'\n",
       "\\item 'waterfront'\n",
       "\\item 'view'\n",
       "\\item 'condition'\n",
       "\\item 'grade'\n",
       "\\item 'sqft\\_above'\n",
       "\\item 'sqft\\_basement'\n",
       "\\item 'yr\\_built'\n",
       "\\item 'yr\\_renovated'\n",
       "\\item 'zipcode'\n",
       "\\item 'lat'\n",
       "\\item 'long'\n",
       "\\item 'sqft\\_living15'\n",
       "\\item 'sqft\\_lot15'\n",
       "\\end{enumerate*}\n"
      ],
      "text/markdown": [
       "1. 'id'\n",
       "2. 'date'\n",
       "3. 'price'\n",
       "4. 'bedrooms'\n",
       "5. 'bathrooms'\n",
       "6. 'sqft_living'\n",
       "7. 'sqft_lot'\n",
       "8. 'floors'\n",
       "9. 'waterfront'\n",
       "10. 'view'\n",
       "11. 'condition'\n",
       "12. 'grade'\n",
       "13. 'sqft_above'\n",
       "14. 'sqft_basement'\n",
       "15. 'yr_built'\n",
       "16. 'yr_renovated'\n",
       "17. 'zipcode'\n",
       "18. 'lat'\n",
       "19. 'long'\n",
       "20. 'sqft_living15'\n",
       "21. 'sqft_lot15'\n",
       "\n",
       "\n"
      ],
      "text/plain": [
       " [1] \"id\"            \"date\"          \"price\"         \"bedrooms\"     \n",
       " [5] \"bathrooms\"     \"sqft_living\"   \"sqft_lot\"      \"floors\"       \n",
       " [9] \"waterfront\"    \"view\"          \"condition\"     \"grade\"        \n",
       "[13] \"sqft_above\"    \"sqft_basement\" \"yr_built\"      \"yr_renovated\" \n",
       "[17] \"zipcode\"       \"lat\"           \"long\"          \"sqft_living15\"\n",
       "[21] \"sqft_lot15\"   "
      ]
     },
     "metadata": {},
     "output_type": "display_data"
    },
    {
     "data": {
      "text/plain": [
       "\n",
       "Call:\n",
       " randomForest(formula = price ~ bedrooms + bathrooms + sqft_living +      sqft_lot + floors + waterfront + view + condition + grade +      sqft_above + sqft_basement + yr_built + lat + long + sqft_living15 +      sqft_lot15, data = kc_house_base, importance = TRUE) \n",
       "               Type of random forest: regression\n",
       "                     Number of trees: 500\n",
       "No. of variables tried at each split: 5\n",
       "\n",
       "          Mean of squared residuals: 17612547765\n",
       "                    % Var explained: 87.2"
      ]
     },
     "metadata": {},
     "output_type": "display_data"
    },
    {
     "data": {
      "text/html": [
       "<table>\n",
       "<thead><tr><th></th><th scope=col>%IncMSE</th><th scope=col>IncNodePurity</th></tr></thead>\n",
       "<tbody>\n",
       "\t<tr><th scope=row>bedrooms</th><td>  9.062169  </td><td>1.582701e+13</td></tr>\n",
       "\t<tr><th scope=row>bathrooms</th><td> 15.022037  </td><td>1.176609e+14</td></tr>\n",
       "\t<tr><th scope=row>sqft_living</th><td> 37.475357  </td><td>5.021867e+14</td></tr>\n",
       "\t<tr><th scope=row>sqft_lot</th><td> 29.538184  </td><td>4.122088e+13</td></tr>\n",
       "\t<tr><th scope=row>floors</th><td> 13.540394  </td><td>9.759005e+12</td></tr>\n",
       "\t<tr><th scope=row>waterfront</th><td> 26.123128  </td><td>5.109150e+13</td></tr>\n",
       "\t<tr><th scope=row>view</th><td> 20.570968  </td><td>7.204059e+13</td></tr>\n",
       "\t<tr><th scope=row>condition</th><td> 16.722460  </td><td>1.094316e+13</td></tr>\n",
       "\t<tr><th scope=row>grade</th><td> 32.788197  </td><td>4.154004e+14</td></tr>\n",
       "\t<tr><th scope=row>sqft_above</th><td> 20.058635  </td><td>1.812722e+14</td></tr>\n",
       "\t<tr><th scope=row>sqft_basement</th><td> 11.808172  </td><td>4.303962e+13</td></tr>\n",
       "\t<tr><th scope=row>yr_built</th><td> 36.073675  </td><td>7.335605e+13</td></tr>\n",
       "\t<tr><th scope=row>lat</th><td>144.265497  </td><td>3.047247e+14</td></tr>\n",
       "\t<tr><th scope=row>long</th><td> 81.610402  </td><td>1.346800e+14</td></tr>\n",
       "\t<tr><th scope=row>sqft_living15</th><td> 31.488070  </td><td>1.910357e+14</td></tr>\n",
       "\t<tr><th scope=row>sqft_lot15</th><td> 31.660364  </td><td>4.183932e+13</td></tr>\n",
       "</tbody>\n",
       "</table>\n"
      ],
      "text/latex": [
       "\\begin{tabular}{r|ll}\n",
       "  & \\%IncMSE & IncNodePurity\\\\\n",
       "\\hline\n",
       "\tbedrooms &   9.062169   & 1.582701e+13\\\\\n",
       "\tbathrooms &  15.022037   & 1.176609e+14\\\\\n",
       "\tsqft\\_living &  37.475357   & 5.021867e+14\\\\\n",
       "\tsqft\\_lot &  29.538184   & 4.122088e+13\\\\\n",
       "\tfloors &  13.540394   & 9.759005e+12\\\\\n",
       "\twaterfront &  26.123128   & 5.109150e+13\\\\\n",
       "\tview &  20.570968   & 7.204059e+13\\\\\n",
       "\tcondition &  16.722460   & 1.094316e+13\\\\\n",
       "\tgrade &  32.788197   & 4.154004e+14\\\\\n",
       "\tsqft\\_above &  20.058635   & 1.812722e+14\\\\\n",
       "\tsqft\\_basement &  11.808172   & 4.303962e+13\\\\\n",
       "\tyr\\_built &  36.073675   & 7.335605e+13\\\\\n",
       "\tlat & 144.265497   & 3.047247e+14\\\\\n",
       "\tlong &  81.610402   & 1.346800e+14\\\\\n",
       "\tsqft\\_living15 &  31.488070   & 1.910357e+14\\\\\n",
       "\tsqft\\_lot15 &  31.660364   & 4.183932e+13\\\\\n",
       "\\end{tabular}\n"
      ],
      "text/markdown": [
       "\n",
       "| <!--/--> | %IncMSE | IncNodePurity |\n",
       "|---|---|---|\n",
       "| bedrooms |   9.062169   | 1.582701e+13 |\n",
       "| bathrooms |  15.022037   | 1.176609e+14 |\n",
       "| sqft_living |  37.475357   | 5.021867e+14 |\n",
       "| sqft_lot |  29.538184   | 4.122088e+13 |\n",
       "| floors |  13.540394   | 9.759005e+12 |\n",
       "| waterfront |  26.123128   | 5.109150e+13 |\n",
       "| view |  20.570968   | 7.204059e+13 |\n",
       "| condition |  16.722460   | 1.094316e+13 |\n",
       "| grade |  32.788197   | 4.154004e+14 |\n",
       "| sqft_above |  20.058635   | 1.812722e+14 |\n",
       "| sqft_basement |  11.808172   | 4.303962e+13 |\n",
       "| yr_built |  36.073675   | 7.335605e+13 |\n",
       "| lat | 144.265497   | 3.047247e+14 |\n",
       "| long |  81.610402   | 1.346800e+14 |\n",
       "| sqft_living15 |  31.488070   | 1.910357e+14 |\n",
       "| sqft_lot15 |  31.660364   | 4.183932e+13 |\n",
       "\n"
      ],
      "text/plain": [
       "              %IncMSE    IncNodePurity\n",
       "bedrooms        9.062169 1.582701e+13 \n",
       "bathrooms      15.022037 1.176609e+14 \n",
       "sqft_living    37.475357 5.021867e+14 \n",
       "sqft_lot       29.538184 4.122088e+13 \n",
       "floors         13.540394 9.759005e+12 \n",
       "waterfront     26.123128 5.109150e+13 \n",
       "view           20.570968 7.204059e+13 \n",
       "condition      16.722460 1.094316e+13 \n",
       "grade          32.788197 4.154004e+14 \n",
       "sqft_above     20.058635 1.812722e+14 \n",
       "sqft_basement  11.808172 4.303962e+13 \n",
       "yr_built       36.073675 7.335605e+13 \n",
       "lat           144.265497 3.047247e+14 \n",
       "long           81.610402 1.346800e+14 \n",
       "sqft_living15  31.488070 1.910357e+14 \n",
       "sqft_lot15     31.660364 4.183932e+13 "
      ]
     },
     "metadata": {},
     "output_type": "display_data"
    },
    {
     "data": {
      "image/png": "[encoded data removed]",
      "text/plain": [
       "plot without title"
      ]
     },
     "metadata": {},
     "output_type": "display_data"
    }
   ],
   "source": [
    "#base_model\n",
    "\n",
    "str(kc_house)\n",
    "\n",
    "colnames(kc_house_base)\n",
    "\n",
    "kc_house_base$waterfront<-as.factor(kc_house_base$waterfront)\n",
    "kc_house_base$condtion<-as.factor(kc_house_base$condition)\n",
    "kc_house_base$grade<-as.factor(kc_house_base$grade)\n",
    "kc_house_base$zipcode<-as.factor(kc_house_base$zipcode)\n",
    "\n",
    "base_model<-randomForest(price~bedrooms+bathrooms+sqft_living+sqft_lot+\n",
    "                    floors+waterfront+view+condition+grade+\n",
    "                    sqft_above+sqft_basement+yr_built+\n",
    "                    lat+long+sqft_living15+sqft_lot15, \n",
    "                    data=kc_house_base, importance=TRUE)\n",
    "\n",
    "base_model\n",
    "importance(base_model)\n",
    "varImpPlot(base_model)"
   ]
  },
  {
   "cell_type": "code",
   "execution_count": 36,
   "metadata": {},
   "outputs": [
    {
     "name": "stdout",
     "output_type": "stream",
     "text": [
      "mtry = 2  OOB error = 20120868683 \n",
      "Searching left ...\n",
      "mtry = 1 \tOOB error = 27402763484 \n",
      "-0.3619076 0.05 \n",
      "Searching right ...\n",
      "mtry = 4 \tOOB error = 17590398337 \n",
      "0.1257635 0.05 \n",
      "mtry = 8 \tOOB error = 17379556927 \n",
      "0.01198616 0.05 \n"
     ]
    },
    {
     "data": {
      "text/html": [
       "<table>\n",
       "<thead><tr><th></th><th scope=col>mtry</th><th scope=col>OOBError</th></tr></thead>\n",
       "<tbody>\n",
       "\t<tr><th scope=row>1</th><td>1          </td><td>27402763484</td></tr>\n",
       "\t<tr><th scope=row>2</th><td>2          </td><td>20120868683</td></tr>\n",
       "\t<tr><th scope=row>4</th><td>4          </td><td>17590398337</td></tr>\n",
       "\t<tr><th scope=row>8</th><td>8          </td><td>17379556927</td></tr>\n",
       "</tbody>\n",
       "</table>\n"
      ],
      "text/latex": [
       "\\begin{tabular}{r|ll}\n",
       "  & mtry & OOBError\\\\\n",
       "\\hline\n",
       "\t1 & 1           & 27402763484\\\\\n",
       "\t2 & 2           & 20120868683\\\\\n",
       "\t4 & 4           & 17590398337\\\\\n",
       "\t8 & 8           & 17379556927\\\\\n",
       "\\end{tabular}\n"
      ],
      "text/markdown": [
       "\n",
       "| <!--/--> | mtry | OOBError |\n",
       "|---|---|---|\n",
       "| 1 | 1           | 27402763484 |\n",
       "| 2 | 2           | 20120868683 |\n",
       "| 4 | 4           | 17590398337 |\n",
       "| 8 | 8           | 17379556927 |\n",
       "\n"
      ],
      "text/plain": [
       "  mtry OOBError   \n",
       "1 1    27402763484\n",
       "2 2    20120868683\n",
       "4 4    17590398337\n",
       "8 8    17379556927"
      ]
     },
     "metadata": {},
     "output_type": "display_data"
    },
    {
     "data": {
      "image/png": "[encoded data removed]",
      "text/plain": [
       "plot without title"
      ]
     },
     "metadata": {},
     "output_type": "display_data"
    }
   ],
   "source": [
    "\n",
    "tuneRF(kc_house[,c(\"sqft_living\",\"sqft_lot\",\"floors\",\"waterfront\",\n",
    "                    \"view\",\"grade\",\"lat\",\"long\",\"sqft_living15\",\"location\",\n",
    "                    \"dist\",\"sqft_base_bi\",\"bath_per_bed\",\"living_per_lot\",\n",
    "                    \"avg_living\",\"avg_price\",\"ration\",\"m_living\",\"m_price\",\"ration_2\",\n",
    "                    \"age_sold\",\"age_sold_reno\",\"yr_renovated_bi\")],kc_house$price,mtryStart=2)\n"
   ]
  },
  {
   "cell_type": "code",
   "execution_count": 34,
   "metadata": {},
   "outputs": [
    {
     "data": {
      "text/html": [
       "<table>\n",
       "<thead><tr><th></th><th scope=col>%IncMSE</th><th scope=col>IncNodePurity</th></tr></thead>\n",
       "<tbody>\n",
       "\t<tr><th scope=row>sqft_living</th><td>91.126988   </td><td>3.930323e+14</td></tr>\n",
       "\t<tr><th scope=row>sqft_lot</th><td>30.227358   </td><td>3.305689e+13</td></tr>\n",
       "\t<tr><th scope=row>floors</th><td>20.585518   </td><td>5.037216e+12</td></tr>\n",
       "\t<tr><th scope=row>waterfront</th><td>50.235623   </td><td>5.631045e+13</td></tr>\n",
       "\t<tr><th scope=row>view</th><td>25.152088   </td><td>2.993630e+13</td></tr>\n",
       "\t<tr><th scope=row>grade</th><td> 4.742884   </td><td>2.380133e+13</td></tr>\n",
       "\t<tr><th scope=row>lat</th><td>49.960761   </td><td>4.871104e+13</td></tr>\n",
       "\t<tr><th scope=row>long</th><td>41.712736   </td><td>6.619737e+13</td></tr>\n",
       "\t<tr><th scope=row>sqft_living15</th><td>61.132474   </td><td>6.557174e+13</td></tr>\n",
       "\t<tr><th scope=row>location</th><td>13.600068   </td><td>5.787466e+12</td></tr>\n",
       "\t<tr><th scope=row>dist</th><td>69.026432   </td><td>1.317961e+14</td></tr>\n",
       "\t<tr><th scope=row>sqft_base_bi</th><td>14.977507   </td><td>3.155917e+12</td></tr>\n",
       "\t<tr><th scope=row>bath_per_bed</th><td>14.062157   </td><td>1.563802e+13</td></tr>\n",
       "\t<tr><th scope=row>living_per_lot</th><td>26.631652   </td><td>2.069708e+13</td></tr>\n",
       "\t<tr><th scope=row>avg_living</th><td> 8.384973   </td><td>2.365015e+13</td></tr>\n",
       "\t<tr><th scope=row>avg_price</th><td>40.275398   </td><td>7.862598e+14</td></tr>\n",
       "\t<tr><th scope=row>ration</th><td>15.615724   </td><td>1.353250e+13</td></tr>\n",
       "\t<tr><th scope=row>m_living</th><td>12.242596   </td><td>1.020093e+13</td></tr>\n",
       "\t<tr><th scope=row>m_price</th><td>23.836357   </td><td>4.094022e+14</td></tr>\n",
       "\t<tr><th scope=row>ration_2</th><td>15.447951   </td><td>8.166699e+12</td></tr>\n",
       "\t<tr><th scope=row>age_sold</th><td>35.304494   </td><td>3.503450e+13</td></tr>\n",
       "\t<tr><th scope=row>age_sold_reno</th><td>31.028794   </td><td>2.016064e+13</td></tr>\n",
       "\t<tr><th scope=row>yr_renovated_bi</th><td> 4.731786   </td><td>2.492919e+12</td></tr>\n",
       "</tbody>\n",
       "</table>\n"
      ],
      "text/latex": [
       "\\begin{tabular}{r|ll}\n",
       "  & \\%IncMSE & IncNodePurity\\\\\n",
       "\\hline\n",
       "\tsqft\\_living & 91.126988    & 3.930323e+14\\\\\n",
       "\tsqft\\_lot & 30.227358    & 3.305689e+13\\\\\n",
       "\tfloors & 20.585518    & 5.037216e+12\\\\\n",
       "\twaterfront & 50.235623    & 5.631045e+13\\\\\n",
       "\tview & 25.152088    & 2.993630e+13\\\\\n",
       "\tgrade &  4.742884    & 2.380133e+13\\\\\n",
       "\tlat & 49.960761    & 4.871104e+13\\\\\n",
       "\tlong & 41.712736    & 6.619737e+13\\\\\n",
       "\tsqft\\_living15 & 61.132474    & 6.557174e+13\\\\\n",
       "\tlocation & 13.600068    & 5.787466e+12\\\\\n",
       "\tdist & 69.026432    & 1.317961e+14\\\\\n",
       "\tsqft\\_base\\_bi & 14.977507    & 3.155917e+12\\\\\n",
       "\tbath\\_per\\_bed & 14.062157    & 1.563802e+13\\\\\n",
       "\tliving\\_per\\_lot & 26.631652    & 2.069708e+13\\\\\n",
       "\tavg\\_living &  8.384973    & 2.365015e+13\\\\\n",
       "\tavg\\_price & 40.275398    & 7.862598e+14\\\\\n",
       "\tration & 15.615724    & 1.353250e+13\\\\\n",
       "\tm\\_living & 12.242596    & 1.020093e+13\\\\\n",
       "\tm\\_price & 23.836357    & 4.094022e+14\\\\\n",
       "\tration\\_2 & 15.447951    & 8.166699e+12\\\\\n",
       "\tage\\_sold & 35.304494    & 3.503450e+13\\\\\n",
       "\tage\\_sold\\_reno & 31.028794    & 2.016064e+13\\\\\n",
       "\tyr\\_renovated\\_bi &  4.731786    & 2.492919e+12\\\\\n",
       "\\end{tabular}\n"
      ],
      "text/markdown": [
       "\n",
       "| <!--/--> | %IncMSE | IncNodePurity |\n",
       "|---|---|---|\n",
       "| sqft_living | 91.126988    | 3.930323e+14 |\n",
       "| sqft_lot | 30.227358    | 3.305689e+13 |\n",
       "| floors | 20.585518    | 5.037216e+12 |\n",
       "| waterfront | 50.235623    | 5.631045e+13 |\n",
       "| view | 25.152088    | 2.993630e+13 |\n",
       "| grade |  4.742884    | 2.380133e+13 |\n",
       "| lat | 49.960761    | 4.871104e+13 |\n",
       "| long | 41.712736    | 6.619737e+13 |\n",
       "| sqft_living15 | 61.132474    | 6.557174e+13 |\n",
       "| location | 13.600068    | 5.787466e+12 |\n",
       "| dist | 69.026432    | 1.317961e+14 |\n",
       "| sqft_base_bi | 14.977507    | 3.155917e+12 |\n",
       "| bath_per_bed | 14.062157    | 1.563802e+13 |\n",
       "| living_per_lot | 26.631652    | 2.069708e+13 |\n",
       "| avg_living |  8.384973    | 2.365015e+13 |\n",
       "| avg_price | 40.275398    | 7.862598e+14 |\n",
       "| ration | 15.615724    | 1.353250e+13 |\n",
       "| m_living | 12.242596    | 1.020093e+13 |\n",
       "| m_price | 23.836357    | 4.094022e+14 |\n",
       "| ration_2 | 15.447951    | 8.166699e+12 |\n",
       "| age_sold | 35.304494    | 3.503450e+13 |\n",
       "| age_sold_reno | 31.028794    | 2.016064e+13 |\n",
       "| yr_renovated_bi |  4.731786    | 2.492919e+12 |\n",
       "\n"
      ],
      "text/plain": [
       "                %IncMSE   IncNodePurity\n",
       "sqft_living     91.126988 3.930323e+14 \n",
       "sqft_lot        30.227358 3.305689e+13 \n",
       "floors          20.585518 5.037216e+12 \n",
       "waterfront      50.235623 5.631045e+13 \n",
       "view            25.152088 2.993630e+13 \n",
       "grade            4.742884 2.380133e+13 \n",
       "lat             49.960761 4.871104e+13 \n",
       "long            41.712736 6.619737e+13 \n",
       "sqft_living15   61.132474 6.557174e+13 \n",
       "location        13.600068 5.787466e+12 \n",
       "dist            69.026432 1.317961e+14 \n",
       "sqft_base_bi    14.977507 3.155917e+12 \n",
       "bath_per_bed    14.062157 1.563802e+13 \n",
       "living_per_lot  26.631652 2.069708e+13 \n",
       "avg_living       8.384973 2.365015e+13 \n",
       "avg_price       40.275398 7.862598e+14 \n",
       "ration          15.615724 1.353250e+13 \n",
       "m_living        12.242596 1.020093e+13 \n",
       "m_price         23.836357 4.094022e+14 \n",
       "ration_2        15.447951 8.166699e+12 \n",
       "age_sold        35.304494 3.503450e+13 \n",
       "age_sold_reno   31.028794 2.016064e+13 \n",
       "yr_renovated_bi  4.731786 2.492919e+12 "
      ]
     },
     "metadata": {},
     "output_type": "display_data"
    },
    {
     "data": {
      "image/png": "[encoded data removed]",
      "text/plain": [
       "plot without title"
      ]
     },
     "metadata": {},
     "output_type": "display_data"
    }
   ],
   "source": [
    "model_2<-randomForest(price~sqft_living+sqft_lot+floors+waterfront+\n",
    "                        view+grade+lat+long+sqft_living15+location+\n",
    "                        dist+sqft_base_bi+bath_per_bed+living_per_lot+\n",
    "                        avg_living+avg_price+ration+m_living+m_price+ration_2+\n",
    "                        age_sold+age_sold_reno+yr_renovated_bi,\n",
    "                    data=kc_house,ntree=600,mtry=16,importance=TRUE)\n",
    "\n",
    "importance(model_2)\n",
    "varImpPlot(model_2)"
   ]
  },
  {
   "cell_type": "code",
   "execution_count": 35,
   "metadata": {},
   "outputs": [
    {
     "data": {
      "text/plain": [
       "\n",
       "Call:\n",
       " randomForest(formula = price ~ sqft_living + sqft_lot + floors +      waterfront + view + grade + lat + long + sqft_living15 +      location + dist + sqft_base_bi + bath_per_bed + living_per_lot +      avg_living + avg_price + ration + m_living + m_price + ration_2 +      age_sold + age_sold_reno + yr_renovated_bi, data = kc_house,      ntree = 600, mtry = 16, importance = TRUE) \n",
       "               Type of random forest: regression\n",
       "                     Number of trees: 600\n",
       "No. of variables tried at each split: 16\n",
       "\n",
       "          Mean of squared residuals: 15485193978\n",
       "                    % Var explained: 88.75"
      ]
     },
     "metadata": {},
     "output_type": "display_data"
    }
   ],
   "source": [
    "# before parameter tuing  : 88.37\n",
    "model_2"
   ]
  }
 ],
 "metadata": {
  "kernelspec": {
   "display_name": "R",
   "language": "R",
   "name": "ir"
  },
  "language_info": {
   "codemirror_mode": "r",
   "file_extension": ".r",
   "mimetype": "text/x-r-source",
   "name": "R",
   "pygments_lexer": "r",
   "version": "3.5.1"
  }
 },
 "nbformat": 4,
 "nbformat_minor": 2
}
